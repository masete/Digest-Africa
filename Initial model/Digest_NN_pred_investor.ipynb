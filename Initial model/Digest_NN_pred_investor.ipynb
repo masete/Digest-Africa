{
 "cells": [
  {
   "cell_type": "code",
   "execution_count": 6,
   "id": "50b94e12-9412-4415-b6ac-2aba9bf6f83e",
   "metadata": {},
   "outputs": [],
   "source": [
    "# !pip install tensorflow"
   ]
  },
  {
   "cell_type": "code",
   "execution_count": 7,
   "id": "41b24e7f-1637-4a29-a362-cfa0e3b13c80",
   "metadata": {},
   "outputs": [],
   "source": [
    "import pandas as pd\n",
    "import numpy as np\n",
    "# import sklearn as sk\n",
    "from matplotlib import pyplot as plt\n",
    "import seaborn as sn\n",
    "import seaborn as sns\n",
    "from matplotlib import pyplot\n",
    "# from keras.models import Sequential\n",
    "# from keras.layers import Dense\n",
    "# from sklearn.linear_model import LinearRegression\n",
    "# from sklearn.linear_model import LogisticRegression\n",
    "# from sklearn.tree import DecisionTreeClassifier\n",
    "from sklearn.model_selection import train_test_split\n",
    "# from sklearn.metrics import r2_score, explained_variance_score, confusion_matrix, accuracy_score, classification_report, log_loss\n",
    "from math import sqrt\n",
    "\n",
    "# Creating the modeling dataset\n",
    "# from sklearn.datasets import make_classification\n",
    "# Data processing\n",
    "\n",
    "# Model and performance\n",
    "#from sklearn.model_selection import train_test_split\n",
    "# from sklearn.ensemble import RandomForestClassifier\n",
    "# from sklearn.metrics import classification_report\n",
    "\n",
    "# Oversampling and under sampling\n",
    "# from imblearn.over_sampling import RandomOverSampler, SMOTE\n",
    "# from imblearn.under_sampling import RandomUnderSampler, NearMiss\n",
    "# from collections import Counter\n",
    "%matplotlib inline\n"
   ]
  },
  {
   "cell_type": "code",
   "execution_count": 8,
   "id": "5c85a9fa-1d5b-4ac3-b445-1ea578553da7",
   "metadata": {},
   "outputs": [],
   "source": [
    "\n",
    "# Load and preprocess the data\n",
    "# data = pd.read_csv(\"startup_funding.csv\")\n",
    "# X = data.iloc[:, 0:10].values\n",
    "# y = data.iloc[:, 10:].values\n",
    "\n",
    "# Define the neural network architecture\n",
    "# model = Sequential()\n",
    "# model.add(Dense(64, input_dim=10, activation='relu'))\n",
    "# model.add(Dense(32, activation='relu'))\n",
    "# model.add(Dense(16, activation='relu'))\n",
    "# model.add(Dense(8, activation='softmax'))\n",
    "\n",
    "# Compile the model\n",
    "# model.compile(loss='categorical_crossentropy', optimizer='adam', metrics=['accuracy'])\n",
    "\n",
    "# Train the model\n",
    "# model.fit(X, y, epochs=50, batch_size=32, validation_split=0.2)\n",
    "\n",
    "# Generate predictions for a new startup\n",
    "# new_startup = np.array([[1000000, 0, 1, 0, 0, 0, 1, 0, 0, 0]])\n",
    "# predictions = model.predict(new_startup)\n",
    "\n",
    "# Select the output nodes with the highest activation levels\n",
    "# investors = np.argsort(predictions)[0][-15:]"
   ]
  },
  {
   "cell_type": "code",
   "execution_count": 9,
   "id": "30ee06df-118b-475a-804a-b175d8a4d291",
   "metadata": {},
   "outputs": [],
   "source": [
    "# Load and preprocess the data\n",
    "# data = pd.read_csv(\"startup_funding.csv\")\n",
    "# X = data.iloc[:, 0:10].values\n",
    "# investor_names = data.columns[10:].tolist()\n",
    "# y = data.iloc[:, 10:].values\n",
    "\n",
    "# Define the neural network architecture\n",
    "# model = Sequential()\n",
    "# model.add(Dense(64, input_dim=10, activation='relu'))\n",
    "# model.add(Dense(32, activation='relu'))\n",
    "# model.add(Dense(16, activation='relu'))\n",
    "# model.add(Dense(len(investor_names), activation='softmax'))\n",
    "\n",
    "# Compile the model\n",
    "# model.compile(loss='categorical_crossentropy', optimizer='adam', metrics=['accuracy'])\n",
    "\n",
    "# Train the model\n",
    "# model.fit(X, y, epochs=50, batch_size=32, validation_split=0.2)\n",
    "\n",
    "# Generate predictions for a new startup\n",
    "# new_startup = np.array([[1000000, 0, 1, 0, 0, 0, 1, 0, 0, 0]])\n",
    "# predictions = model.predict(new_startup)\n",
    "\n",
    "# Map the numeric output to investor names\n",
    "# investor_probs = {name: prob for name, prob in zip(investor_names, predictions[0])}\n",
    "# top_investors = sorted(investor_probs, key=investor_probs.get, reverse=True)[:15]\n"
   ]
  },
  {
   "cell_type": "code",
   "execution_count": null,
   "id": "491c9061-31e3-404a-baeb-611d81e4f63a",
   "metadata": {},
   "outputs": [
    {
     "data": {
      "text/html": [
       "<div>\n",
       "<style scoped>\n",
       "    .dataframe tbody tr th:only-of-type {\n",
       "        vertical-align: middle;\n",
       "    }\n",
       "\n",
       "    .dataframe tbody tr th {\n",
       "        vertical-align: top;\n",
       "    }\n",
       "\n",
       "    .dataframe thead th {\n",
       "        text-align: right;\n",
       "    }\n",
       "</style>\n",
       "<table border=\"1\" class=\"dataframe\">\n",
       "  <thead>\n",
       "    <tr style=\"text-align: right;\">\n",
       "      <th></th>\n",
       "      <th>1_Company_name</th>\n",
       "      <th>2_Company_description</th>\n",
       "      <th>3_Status</th>\n",
       "      <th>4_Year_founded</th>\n",
       "      <th>5_Headquarters</th>\n",
       "      <th>6_Other_offices</th>\n",
       "      <th>7.1_Country HQ</th>\n",
       "      <th>7.2_Assigned_Country (Africa)</th>\n",
       "      <th>8_Countries_of_operation_(Business Model/Market)</th>\n",
       "      <th>9_Country_Parent Incorporation</th>\n",
       "      <th>...</th>\n",
       "      <th>Unnamed: 108</th>\n",
       "      <th>Unnamed: 109</th>\n",
       "      <th>Unnamed: 110</th>\n",
       "      <th>Unnamed: 111</th>\n",
       "      <th>Unnamed: 112</th>\n",
       "      <th>Unnamed: 113</th>\n",
       "      <th>Unnamed: 114</th>\n",
       "      <th>Unnamed: 115</th>\n",
       "      <th>Average time of rounds(days)</th>\n",
       "      <th>Year of recieving Series A</th>\n",
       "    </tr>\n",
       "  </thead>\n",
       "  <tbody>\n",
       "    <tr>\n",
       "      <th>0</th>\n",
       "      <td>Jumia Group</td>\n",
       "      <td>Jumia is connecting consumers and businesses a...</td>\n",
       "      <td>Active</td>\n",
       "      <td>2012.0</td>\n",
       "      <td>Lagos, Nigeria</td>\n",
       "      <td>Nigeria, Egypt, Morocco, Kenya, Ivory Coast, S...</td>\n",
       "      <td>Nigeria</td>\n",
       "      <td>Nigeria</td>\n",
       "      <td>Nigeria, Egypt, Morocco, Kenya, Ivory Coast, S...</td>\n",
       "      <td>NaN</td>\n",
       "      <td>...</td>\n",
       "      <td>NaN</td>\n",
       "      <td>NaN</td>\n",
       "      <td>NaN</td>\n",
       "      <td>NaN</td>\n",
       "      <td>NaN</td>\n",
       "      <td>NaN</td>\n",
       "      <td>NaN</td>\n",
       "      <td>NaN</td>\n",
       "      <td>529.0</td>\n",
       "      <td>2012.0</td>\n",
       "    </tr>\n",
       "    <tr>\n",
       "      <th>1</th>\n",
       "      <td>Andela</td>\n",
       "      <td>Andela invests in Africa’s most talented softw...</td>\n",
       "      <td>Active</td>\n",
       "      <td>2014.0</td>\n",
       "      <td>New York, united States</td>\n",
       "      <td>Nigeria, Kenya, Uganda, Rwanda</td>\n",
       "      <td>United States</td>\n",
       "      <td>Nigeria</td>\n",
       "      <td>Nigeria, Kenya, Uganda, Rwanda</td>\n",
       "      <td>NaN</td>\n",
       "      <td>...</td>\n",
       "      <td>NaN</td>\n",
       "      <td>NaN</td>\n",
       "      <td>NaN</td>\n",
       "      <td>NaN</td>\n",
       "      <td>NaN</td>\n",
       "      <td>NaN</td>\n",
       "      <td>NaN</td>\n",
       "      <td>NaN</td>\n",
       "      <td>395.0</td>\n",
       "      <td>2015.0</td>\n",
       "    </tr>\n",
       "    <tr>\n",
       "      <th>2</th>\n",
       "      <td>Takealot</td>\n",
       "      <td>takealot.com is one of SA's largest online ret...</td>\n",
       "      <td>Acquired</td>\n",
       "      <td>2011.0</td>\n",
       "      <td>Cape Town, South Africa</td>\n",
       "      <td>NaN</td>\n",
       "      <td>South Africa</td>\n",
       "      <td>South Africa</td>\n",
       "      <td>South Africa</td>\n",
       "      <td>NaN</td>\n",
       "      <td>...</td>\n",
       "      <td>NaN</td>\n",
       "      <td>NaN</td>\n",
       "      <td>NaN</td>\n",
       "      <td>NaN</td>\n",
       "      <td>NaN</td>\n",
       "      <td>NaN</td>\n",
       "      <td>NaN</td>\n",
       "      <td>NaN</td>\n",
       "      <td>1054.0</td>\n",
       "      <td>NaN</td>\n",
       "    </tr>\n",
       "    <tr>\n",
       "      <th>3</th>\n",
       "      <td>Zola Electric</td>\n",
       "      <td>ZOLA Electric (formerly Off Grid Electric) is ...</td>\n",
       "      <td>Active</td>\n",
       "      <td>2011.0</td>\n",
       "      <td>Arusha, Tanzania</td>\n",
       "      <td>NaN</td>\n",
       "      <td>Tanzania</td>\n",
       "      <td>Tanzania</td>\n",
       "      <td>Tanzania</td>\n",
       "      <td>NaN</td>\n",
       "      <td>...</td>\n",
       "      <td>NaN</td>\n",
       "      <td>NaN</td>\n",
       "      <td>NaN</td>\n",
       "      <td>NaN</td>\n",
       "      <td>NaN</td>\n",
       "      <td>NaN</td>\n",
       "      <td>NaN</td>\n",
       "      <td>NaN</td>\n",
       "      <td>NaN</td>\n",
       "      <td>NaN</td>\n",
       "    </tr>\n",
       "    <tr>\n",
       "      <th>4</th>\n",
       "      <td>d.light</td>\n",
       "      <td>d.light is a global leader in delivering affor...</td>\n",
       "      <td>Active</td>\n",
       "      <td>2007.0</td>\n",
       "      <td>Nairobi, Kenya</td>\n",
       "      <td>NaN</td>\n",
       "      <td>Kenya</td>\n",
       "      <td>Kenya</td>\n",
       "      <td>Kenya</td>\n",
       "      <td>NaN</td>\n",
       "      <td>...</td>\n",
       "      <td>NaN</td>\n",
       "      <td>NaN</td>\n",
       "      <td>NaN</td>\n",
       "      <td>NaN</td>\n",
       "      <td>NaN</td>\n",
       "      <td>NaN</td>\n",
       "      <td>NaN</td>\n",
       "      <td>NaN</td>\n",
       "      <td>195.0</td>\n",
       "      <td>NaN</td>\n",
       "    </tr>\n",
       "  </tbody>\n",
       "</table>\n",
       "<p>5 rows × 118 columns</p>\n",
       "</div>"
      ],
      "text/plain": [
       "   1_Company_name                              2_Company_description  \\\n",
       "0     Jumia Group  Jumia is connecting consumers and businesses a...   \n",
       "1          Andela  Andela invests in Africa’s most talented softw...   \n",
       "2        Takealot  takealot.com is one of SA's largest online ret...   \n",
       "3  Zola Electric   ZOLA Electric (formerly Off Grid Electric) is ...   \n",
       "4         d.light  d.light is a global leader in delivering affor...   \n",
       "\n",
       "   3_Status  4_Year_founded           5_Headquarters  \\\n",
       "0    Active          2012.0           Lagos, Nigeria   \n",
       "1    Active          2014.0  New York, united States   \n",
       "2  Acquired          2011.0  Cape Town, South Africa   \n",
       "3    Active          2011.0         Arusha, Tanzania   \n",
       "4    Active          2007.0           Nairobi, Kenya   \n",
       "\n",
       "                                     6_Other_offices 7.1_Country HQ  \\\n",
       "0  Nigeria, Egypt, Morocco, Kenya, Ivory Coast, S...        Nigeria   \n",
       "1                     Nigeria, Kenya, Uganda, Rwanda  United States   \n",
       "2                                                NaN   South Africa   \n",
       "3                                                NaN       Tanzania   \n",
       "4                                                NaN          Kenya   \n",
       "\n",
       "  7.2_Assigned_Country (Africa)  \\\n",
       "0                       Nigeria   \n",
       "1                       Nigeria   \n",
       "2                  South Africa   \n",
       "3                      Tanzania   \n",
       "4                         Kenya   \n",
       "\n",
       "    8_Countries_of_operation_(Business Model/Market)  \\\n",
       "0  Nigeria, Egypt, Morocco, Kenya, Ivory Coast, S...   \n",
       "1                     Nigeria, Kenya, Uganda, Rwanda   \n",
       "2                                       South Africa   \n",
       "3                                           Tanzania   \n",
       "4                                              Kenya   \n",
       "\n",
       "  9_Country_Parent Incorporation  ...  Unnamed: 108  Unnamed: 109  \\\n",
       "0                            NaN  ...           NaN           NaN   \n",
       "1                            NaN  ...           NaN           NaN   \n",
       "2                            NaN  ...           NaN           NaN   \n",
       "3                            NaN  ...           NaN           NaN   \n",
       "4                            NaN  ...           NaN           NaN   \n",
       "\n",
       "   Unnamed: 110 Unnamed: 111  Unnamed: 112  Unnamed: 113 Unnamed: 114  \\\n",
       "0           NaN          NaN           NaN           NaN          NaN   \n",
       "1           NaN          NaN           NaN           NaN          NaN   \n",
       "2           NaN          NaN           NaN           NaN          NaN   \n",
       "3           NaN          NaN           NaN           NaN          NaN   \n",
       "4           NaN          NaN           NaN           NaN          NaN   \n",
       "\n",
       "  Unnamed: 115 Average time of rounds(days) Year of recieving Series A   \n",
       "0          NaN                        529.0                      2012.0  \n",
       "1          NaN                        395.0                      2015.0  \n",
       "2          NaN                       1054.0                         NaN  \n",
       "3          NaN                          NaN                         NaN  \n",
       "4          NaN                        195.0                         NaN  \n",
       "\n",
       "[5 rows x 118 columns]"
      ]
     },
     "execution_count": 10,
     "metadata": {},
     "output_type": "execute_result"
    }
   ],
   "source": [
    "df = pd.read_excel ('data/Companies.xlsx')\n",
    "df.head()"
   ]
  },
  {
   "cell_type": "code",
   "execution_count": null,
   "id": "e8d699b4-383e-4512-b2ed-a979e2c09966",
   "metadata": {},
   "outputs": [],
   "source": [
    "cols = df.columns"
   ]
  },
  {
   "cell_type": "code",
   "execution_count": null,
   "id": "a27ba27a-5952-42a2-bc0a-ee01fbbb7a1a",
   "metadata": {
    "tags": []
   },
   "outputs": [],
   "source": [
    "for cat_col in cols:\n",
    "    print(f\"{cat_col}: {df[cat_col].nunique()} uniqueness variable\")"
   ]
  },
  {
   "cell_type": "code",
   "execution_count": null,
   "id": "2e1049e9-1bc1-4e8e-b812-5e88a29ba8b5",
   "metadata": {},
   "outputs": [],
   "source": [
    "#listing all columns\n",
    "my_list = df.columns.values.tolist()"
   ]
  },
  {
   "cell_type": "code",
   "execution_count": null,
   "id": "f0f2ace2-8d8b-4ce7-895b-9c3d3d3889ef",
   "metadata": {},
   "outputs": [],
   "source": [
    "df = df.drop(['Total Number of Funding Rounds','Total Number of Venture Funding Rounds',\n",
    " 'Total Funding todate (disclosed)','Total Venture funding todate (disclosed)','Acquired',\n",
    " '1. Grant','2. Seed', '3. Early Venture','4. Late Venture', '5. Debt Financing','6.Private Equity','7. Offerings',\n",
    " '8. Exits',2010,2011,2012,2013,2014,2015,2016,2017,2018,2019,'Investors','Unnamed: 66','Unnamed: 67','Unnamed: 68',\n",
    " 'Unnamed: 69','Unnamed: 70','Unnamed: 71','Unnamed: 72','Unnamed: 73','Unnamed: 74','Unnamed: 75','Unnamed: 76',\n",
    " 'Unnamed: 77','Unnamed: 78','Unnamed: 79','Unnamed: 80','Duplication.1','Unnamed: 82','Unnamed: 83','Unnamed: 84',\n",
    " 'Unnamed: 85','Unnamed: 86','Unnamed: 87','Unnamed: 88','Unnamed: 89','Unnamed: 90','Unnamed: 91','Unnamed: 92',\n",
    " 'Unnamed: 93','Unnamed: 94','Unnamed: 95','Unnamed: 96','Unnamed: 97','Unnamed: 98','Unnamed: 99','Unnamed: 100',\n",
    " 'Unnamed: 101','Unnamed: 102','Unnamed: 103','Unnamed: 104','Unnamed: 105','Unnamed: 106','Unnamed: 107','Unnamed: 108',\n",
    " 'Unnamed: 109','Unnamed: 110','Unnamed: 111','Unnamed: 112','Unnamed: 113','Unnamed: 114','Unnamed: 115','Average time of rounds(days)',\n",
    " 'Year of recieving Series A '], axis=1)"
   ]
  },
  {
   "cell_type": "code",
   "execution_count": null,
   "id": "8319ac4c-61bb-4fde-b688-eb773361d98a",
   "metadata": {},
   "outputs": [],
   "source": [
    "df.head()"
   ]
  },
  {
   "cell_type": "code",
   "execution_count": null,
   "id": "a0174914-3559-497e-82a0-81e7620b65c7",
   "metadata": {},
   "outputs": [],
   "source": [
    "df_deals = pd.read_excel ('data/Deals (investment).xlsx')\n",
    "df_deals.head()"
   ]
  },
  {
   "cell_type": "code",
   "execution_count": null,
   "id": "ce77a173-5b85-490a-8313-7b7d638646f7",
   "metadata": {},
   "outputs": [],
   "source": [
    "cols = df_deals.columns"
   ]
  },
  {
   "cell_type": "code",
   "execution_count": null,
   "id": "9d5013b1-ffa5-45d5-af8a-dd926e52fc76",
   "metadata": {},
   "outputs": [],
   "source": [
    "for cat_col in cols:\n",
    "    print(f\"{cat_col}: {df_deals[cat_col].nunique()} uniqueness variable\")"
   ]
  },
  {
   "cell_type": "code",
   "execution_count": null,
   "id": "48d7b8cf-ea55-4a8e-8500-1edd5b77ffbc",
   "metadata": {},
   "outputs": [],
   "source": [
    "df_deals.shape"
   ]
  },
  {
   "cell_type": "code",
   "execution_count": null,
   "id": "97a2a1ee-ede1-4961-a43b-80fb862b77e1",
   "metadata": {
    "tags": []
   },
   "outputs": [],
   "source": [
    "# df_deals['Investor 2'].unique()"
   ]
  },
  {
   "cell_type": "code",
   "execution_count": null,
   "id": "257e5bcb-b7d5-496c-b4e9-b0e9d1e0b6f5",
   "metadata": {},
   "outputs": [],
   "source": [
    "df_deals.columns"
   ]
  },
  {
   "cell_type": "code",
   "execution_count": null,
   "id": "203263a8-cfdf-463f-b9af-61119e6b72f9",
   "metadata": {},
   "outputs": [],
   "source": [
    "df_deals = df_deals.drop(['Investor 1','Cummulative Deals (Disclosed)','Cummulative Deals (Undisclosed)','Cummulative Amount','7_source','4_Stake','Investor 2', 'Investor 3',\n",
    "       'Investor 4', 'Investor 5', 'Investor 6', 'Investor 7', 'Investor 8',\n",
    "       'Investor 9', 'Investor 10', 'Investor 11', 'Investor 12','Investor 13','Investor 14','Investor 13.1','Investor 14.1','Investor 15.1','Investor 15','Duplication','Investor 1.1',\n",
    "       'Investor 2.1', 'Investor 3.1', 'Investor 4.1', 'Investor 5.1',\n",
    "       'Investor 6.1', 'Investor 7.1', 'Investor 8.1', 'Investor 9.1',\n",
    "       'Investor 10.1', 'Investor 11.1', 'Investor 12.1'], axis=1)"
   ]
  },
  {
   "cell_type": "code",
   "execution_count": null,
   "id": "7205a45f-bc8a-4e3f-8829-77beabd31928",
   "metadata": {},
   "outputs": [],
   "source": [
    "df_deals.head()"
   ]
  },
  {
   "cell_type": "code",
   "execution_count": null,
   "id": "7ac109b8-68db-4038-b0f0-413dffabb109",
   "metadata": {
    "tags": []
   },
   "outputs": [],
   "source": [
    "df_deals[\"DA Classification_African Company (Yes = 0; No = 1)\"].value_counts()"
   ]
  },
  {
   "cell_type": "code",
   "execution_count": null,
   "id": "106b4d5d-a851-4cc3-a0a0-daf63fc8d12d",
   "metadata": {},
   "outputs": [],
   "source": [
    "df_deals = df_deals.dropna()"
   ]
  },
  {
   "cell_type": "code",
   "execution_count": null,
   "id": "8c9830d6-04cb-428a-9cde-dc11768d7a36",
   "metadata": {},
   "outputs": [],
   "source": [
    "# df_deals.head()"
   ]
  },
  {
   "cell_type": "code",
   "execution_count": null,
   "id": "3eb80495-7ae7-41ff-a14a-75baeb930428",
   "metadata": {},
   "outputs": [],
   "source": [
    "df_deals.shape"
   ]
  },
  {
   "cell_type": "code",
   "execution_count": null,
   "id": "74b42581-5f15-498a-934e-d31747c04bad",
   "metadata": {},
   "outputs": [],
   "source": [
    "def get_year(dt):\n",
    "    return dt.year\n",
    "\n",
    "df_deals['year'] = df_deals['1_post_date'].map(get_year)\n",
    "#df_deals"
   ]
  },
  {
   "cell_type": "code",
   "execution_count": null,
   "id": "99f21e58-8a74-4f65-8d7a-3038785b5ebb",
   "metadata": {},
   "outputs": [],
   "source": [
    "# df_deals"
   ]
  },
  {
   "cell_type": "code",
   "execution_count": null,
   "id": "5a2a88fe-d974-4f92-bb25-cba0d2f61d1d",
   "metadata": {},
   "outputs": [],
   "source": [
    "df_deals = df_deals.drop(['Year','year','Country/Town'], axis=1)"
   ]
  },
  {
   "cell_type": "code",
   "execution_count": null,
   "id": "79686d6a-0e0a-4a64-a993-92ba70953898",
   "metadata": {},
   "outputs": [],
   "source": [
    "# df_deals"
   ]
  },
  {
   "cell_type": "code",
   "execution_count": null,
   "id": "06b8b7fb-23ac-4f08-a65a-9004853775be",
   "metadata": {},
   "outputs": [],
   "source": [
    "#Dropping columns that the startup wont have prior\n",
    "df_deals = df_deals.drop(['1_post_date','2_post_title','Check vs Companies','Industry, DA'], axis=1)"
   ]
  },
  {
   "cell_type": "code",
   "execution_count": null,
   "id": "901b94b6-9d60-43bd-bbbf-59c327158c5b",
   "metadata": {},
   "outputs": [],
   "source": [
    "# df_deals"
   ]
  },
  {
   "cell_type": "code",
   "execution_count": null,
   "id": "5faf4d21-a2c5-472d-82e3-c3f43179292b",
   "metadata": {},
   "outputs": [],
   "source": [
    "df_deals = df_deals.drop(['duplicated_conc'], axis=1)"
   ]
  },
  {
   "cell_type": "code",
   "execution_count": null,
   "id": "454a3500-0f75-497e-9266-d0268a1c3556",
   "metadata": {},
   "outputs": [],
   "source": [
    "df_deals['5_funding_round'].unique()"
   ]
  },
  {
   "cell_type": "code",
   "execution_count": null,
   "id": "2c2d9092-7240-48cc-a3ec-f51f03519ad9",
   "metadata": {},
   "outputs": [],
   "source": [
    "# !pip install category_encoders"
   ]
  },
  {
   "cell_type": "code",
   "execution_count": null,
   "id": "49191374-9d2e-452e-a742-879a1a348a89",
   "metadata": {},
   "outputs": [],
   "source": [
    "from category_encoders import OrdinalEncoder"
   ]
  },
  {
   "cell_type": "code",
   "execution_count": null,
   "id": "d55effda-d254-492c-b038-29fc9220cdfb",
   "metadata": {},
   "outputs": [],
   "source": [
    "# df_deals['main_sector'].unique()"
   ]
  },
  {
   "cell_type": "code",
   "execution_count": null,
   "id": "4105a9e8-5136-4322-b0bf-9a895aca7873",
   "metadata": {},
   "outputs": [],
   "source": [
    "df_deals['main_sector'] = df_deals['main_sector'].apply(lambda x: x.lower())\n",
    "df_deals['main_sector'].unique()"
   ]
  },
  {
   "cell_type": "code",
   "execution_count": null,
   "id": "f8f79ba9-e1a8-48f8-abbc-46096dbf7786",
   "metadata": {},
   "outputs": [],
   "source": [
    "def main_sector(sector):\n",
    "    if 'recruitment' in sector.lower():\n",
    "        return 'recruitment, human resource'\n",
    "    elif 'media/ entertainment' in sector.lower():\n",
    "        return 'media and entertainment'\n",
    "    elif 'media & entertainment' in sector.lower():\n",
    "        return 'media and entertainment'\n",
    "    elif 'solar power' in sector.lower():\n",
    "        return 'solar energy, energy and resources'\n",
    "    elif 'real estate' in sector.lower():\n",
    "        return 'real estate and construction'\n",
    "    elif 'resource & energy' in sector.lower():\n",
    "        return 'solar energy, energy and resources'\n",
    "    elif 'telecommunications' in sector.lower():\n",
    "        return 'utilities and telecommunication services'\n",
    "    elif 'renewable energy' in sector.lower():\n",
    "        return 'renewables & environment'\n",
    "    elif 'information technology' in sector.lower():\n",
    "        return 'other technologies & information technology'\n",
    "    else:\n",
    "        return sector"
   ]
  },
  {
   "cell_type": "code",
   "execution_count": null,
   "id": "a4f79a82-2255-4a3d-a792-718200b47777",
   "metadata": {},
   "outputs": [],
   "source": [
    "#applying our function to eliminate duplicates\n",
    "df_deals['main_sector'] = df_deals['main_sector'].apply(main_sector)"
   ]
  },
  {
   "cell_type": "code",
   "execution_count": null,
   "id": "16f527b6-6d69-4916-8970-8d25c5c8a672",
   "metadata": {},
   "outputs": [],
   "source": [
    "df_deals['main_sector'].unique()"
   ]
  },
  {
   "cell_type": "code",
   "execution_count": null,
   "id": "30f00f5d-c7a7-4058-8120-c0b428756e96",
   "metadata": {},
   "outputs": [],
   "source": [
    "# mapping_ms = [{'col': 'main_sector', 'mapping': {'financial services': 1, 'recruitment, human resource': 2, 'education': 3,\n",
    "#        'media and entertainment': 4, 'e-commerce & retail': 5,\n",
    "#        'other technologies & information technology': 6,\n",
    "#        'real estate and construction': 7,\n",
    "#        'commercial & professional services': 8, 'software': 9,\n",
    "#        'transport & logistics': 10, 'automotive': 11, 'healthcare & pharma': 12,\n",
    "#        'utilities and telecommunication services': 13, 'agriculture': 14,\n",
    "#        'travel & leisure': 15, 'social network': 16, 'security': 17,\n",
    "#        'renewables & environment': 18, 'emerging technologies': 19, 'saas': 20,\n",
    "#        'marketing': 21, 'solar energy, energy and resources': 22, 'robotics': 23,\n",
    "#        'travel and leisure': 24}}]\n",
    "# OrdinalEncoder(cols=['main_sector'], mapping=mapping_ms).fit(df_deals).transform(df_deals)\n",
    "\n",
    "mapping_ms = {'financial services': 1, 'recruitment, human resource': 2, 'education': 3,\n",
    "       'media and entertainment': 4, 'e-commerce & retail': 5,\n",
    "       'other technologies & information technology': 6,\n",
    "       'real estate and construction': 7,\n",
    "       'commercial & professional services': 8, 'software': 9,\n",
    "       'transport & logistics': 10, 'automotive': 11, 'healthcare & pharma': 12,\n",
    "       'utilities and telecommunication services': 13, 'agriculture': 14,\n",
    "       'travel & leisure': 15, 'social network': 16, 'security': 17,\n",
    "       'renewables & environment': 18, 'emerging technologies': 19, 'saas': 20,\n",
    "       'marketing': 21, 'solar energy, energy and resources': 22, 'robotics': 23,\n",
    "       'travel and leisure': 24}\n",
    "\n",
    "df_deals['main_sector_encoded'] = df_deals['main_sector'].apply(lambda x: mapping_ms[x])"
   ]
  },
  {
   "cell_type": "code",
   "execution_count": null,
   "id": "c4c96fc7-0f8b-4127-8e8d-7395934be43c",
   "metadata": {},
   "outputs": [],
   "source": [
    "# df_deals.head()"
   ]
  },
  {
   "cell_type": "code",
   "execution_count": null,
   "id": "8e4a67cb-066e-4679-a56a-fa8b3e67d084",
   "metadata": {},
   "outputs": [],
   "source": [
    "# mapping_sr = [{'col': '5_funding_round', 'mapping': {'Seed': 1, 'Grant': 2, 'Series A': 3, 'Angel': 4, 'Debt Financing': 5, 'Series B': 6,\n",
    "#        'Series D': 7, 'Series C': 8, 'Private Equity': 9, 'Pre-Series B': 10,\n",
    "#        'Convertible Note': 11, 'Pre-Seed': 12, 'Venture Round': 13, 'Series E': 14,\n",
    "#        'Undisclosed': 15, 'Crowdfunding': 16, 'Corporate Venture': 17,\n",
    "#        'Corporate Round': 18, 'Series A II': 19, 'CrowdFunding': 20}}]\n",
    "# OrdinalEncoder(cols=['5_funding_round'], mapping=mapping_sr).fit(df_deals).transform(df_deals)\n"
   ]
  },
  {
   "cell_type": "code",
   "execution_count": null,
   "id": "b868f4d0-a2d2-4bac-88dd-81ebd389c944",
   "metadata": {},
   "outputs": [],
   "source": [
    "mapping_sr = {'Seed': 1, 'Grant': 2, 'Series A': 3, 'Angel': 4, 'Debt Financing': 5, 'Series B': 6,\n",
    "       'Series D': 7, 'Series C': 8, 'Private Equity': 9, 'Pre-Series B': 10,\n",
    "       'Convertible Note': 11, 'Pre-Seed': 12, 'Venture Round': 13, 'Series E': 14,\n",
    "       'Undisclosed': 15, 'Crowdfunding': 16, 'Corporate Venture': 17,\n",
    "       'Corporate Round': 18, 'Series A II': 19, 'CrowdFunding': 20}\n",
    "\n",
    "df_deals['funding_round_encoded'] = df_deals['5_funding_round'].apply(lambda x: mapping_sr[x])"
   ]
  },
  {
   "cell_type": "code",
   "execution_count": null,
   "id": "6a10be18-96f0-4eff-95fd-2b674f93689f",
   "metadata": {},
   "outputs": [],
   "source": [
    "df_deals.head()"
   ]
  },
  {
   "cell_type": "code",
   "execution_count": null,
   "id": "ce7764af-347c-4ea9-8a82-97826e7cb660",
   "metadata": {
    "tags": []
   },
   "outputs": [],
   "source": [
    "df_deals['Category'].unique()"
   ]
  },
  {
   "cell_type": "code",
   "execution_count": null,
   "id": "c49c4c25-d179-433e-8822-cc4f7b63ffe1",
   "metadata": {},
   "outputs": [],
   "source": [
    "df_deals.head()"
   ]
  },
  {
   "cell_type": "code",
   "execution_count": null,
   "id": "54748fef-3209-4607-92d0-6132263d2543",
   "metadata": {},
   "outputs": [],
   "source": [
    "# Load and preprocess the data\n",
    "data = df_deals\n",
    "X = data.iloc[:, 0:2].values\n",
    "investor_names = data.columns[10:].tolist()\n",
    "y = data.iloc[:, 2:].values"
   ]
  },
  {
   "cell_type": "code",
   "execution_count": null,
   "id": "dbd2aa9a-e48f-4c59-96e2-df5ed11ec422",
   "metadata": {},
   "outputs": [],
   "source": [
    "# data"
   ]
  },
  {
   "cell_type": "code",
   "execution_count": null,
   "id": "f66694f1-7735-466b-bafb-46c0889b4813",
   "metadata": {},
   "outputs": [],
   "source": [
    "mode_value = data['6_investors'].mode()[0]\n"
   ]
  },
  {
   "cell_type": "code",
   "execution_count": null,
   "id": "fb224390-0c48-4197-9aaa-98e18e9263c7",
   "metadata": {},
   "outputs": [],
   "source": [
    "# data['6_investors'].fillna(mode_value, inplace=True)\n",
    "# data['6_investors'] = data['6_investors'].replace('Undisclosed', mode_value, inplace=True)\n",
    "\n",
    "data"
   ]
  },
  {
   "cell_type": "code",
   "execution_count": 2,
   "id": "a4885f83-dbde-4f42-8a3b-64fb8d058891",
   "metadata": {},
   "outputs": [
    {
     "ename": "NameError",
     "evalue": "name 'data' is not defined",
     "output_type": "error",
     "traceback": [
      "\u001b[0;31m---------------------------------------------------------------------------\u001b[0m",
      "\u001b[0;31mNameError\u001b[0m                                 Traceback (most recent call last)",
      "Input \u001b[0;32mIn [2]\u001b[0m, in \u001b[0;36m<cell line: 1>\u001b[0;34m()\u001b[0m\n\u001b[0;32m----> 1\u001b[0m data\n",
      "\u001b[0;31mNameError\u001b[0m: name 'data' is not defined"
     ]
    }
   ],
   "source": [
    "data"
   ]
  },
  {
   "cell_type": "code",
   "execution_count": null,
   "id": "c734e689-56a6-47b3-a54a-84aa94c6852e",
   "metadata": {},
   "outputs": [],
   "source": [
    "\n",
    "# Seperating Predictors and Outcome values from train and test sets\n",
    "X_train = pd.DataFrame(data.drop(['6_investors'],axis=1))\n",
    "Y_train_label = data['6_investors'].values.astype(object)\n",
    "X_test = pd.DataFrame(data.drop(['6_investors'],axis=1))\n",
    "Y_test_label = data['6_investors'].values.astype(object)\n",
    "\n",
    "# Define the neural network architecture\n",
    "# model = Sequential()\n",
    "# model.add(Dense(64, input_dim=10, activation='relu'))\n",
    "# model.add(Dense(32, activation='relu'))\n",
    "# model.add(Dense(16, activation='relu'))\n",
    "# model.add(Dense(len(investor_names), activation='softmax'))\n",
    "\n",
    "\n",
    "# Compile the model\n",
    "# model.compile(loss='categorical_crossentropy', optimizer='adam', metrics=['accuracy'])\n",
    "\n",
    "# Train the model\n",
    "# model.fit(X, y, epochs=50, batch_size=32, validation_split=0.2)\n",
    "\n",
    "# Generate predictions for a new startup\n",
    "# new_startup = np.array([[1000000, 0, 1, 0, 0, 0, 1, 0, 0, 0]])\n",
    "# predictions = model.predict(new_startup)\n",
    "\n",
    "# Map the numeric output to investor names\n",
    "# investor_probs = {name: prob for name, prob in zip(investor_names, predictions[0])}\n",
    "# top_investors = sorted(investor_probs, key=investor_probs.get, reverse=True)[:15]\n",
    "\n"
   ]
  },
  {
   "cell_type": "code",
   "execution_count": null,
   "id": "15af04a6-8063-4d79-98e7-bd959240bf45",
   "metadata": {},
   "outputs": [],
   "source": [
    "# Dimension of Train and Test set \n",
    "print(\"Dimension of Train set\",X_train.shape)\n",
    "print(\"Dimension of Test set\",X_test.shape,\"\\n\")"
   ]
  },
  {
   "cell_type": "code",
   "execution_count": null,
   "id": "c1f7f1ac-e210-49d1-a478-e217796addcc",
   "metadata": {},
   "outputs": [],
   "source": [
    "# Transforming non numerical labels into numerical labels\n",
    "from sklearn import preprocessing\n",
    "encoder = preprocessing.LabelEncoder()"
   ]
  },
  {
   "cell_type": "code",
   "execution_count": null,
   "id": "35a9de79-8fff-4439-8eb6-b9a70b80fc0e",
   "metadata": {},
   "outputs": [],
   "source": [
    "# encoding train labels \n",
    "encoder.fit(Y_train_label)\n",
    "Y_train = encoder.transform(Y_train_label)\n",
    "\n",
    "# encoding test labels \n",
    "encoder.fit(Y_test_label)\n",
    "Y_test = encoder.transform(Y_test_label)"
   ]
  },
  {
   "cell_type": "code",
   "execution_count": null,
   "id": "1baf880a-a7c3-42dc-a34c-0eb80430ff9e",
   "metadata": {},
   "outputs": [],
   "source": [
    "#Total Number of Continous and Categorical features in the training set\n",
    "num_cols = X_train._get_numeric_data().columns\n",
    "print(\"Number of numeric features:\",num_cols.size)\n",
    "#list(set(X_train.columns) - set(num_cols))"
   ]
  },
  {
   "cell_type": "code",
   "execution_count": null,
   "id": "0d3179af-8cb0-4a88-9157-497cfea6557f",
   "metadata": {},
   "outputs": [],
   "source": [
    "names_of_predictors = list(X_train.columns.values)"
   ]
  },
  {
   "cell_type": "code",
   "execution_count": null,
   "id": "8f999cf9-a277-4176-8473-3c06aa09d59e",
   "metadata": {},
   "outputs": [],
   "source": [
    "names_of_predictors"
   ]
  },
  {
   "cell_type": "code",
   "execution_count": null,
   "id": "88f5128b-8f3b-42f2-ab51-6720696c5894",
   "metadata": {},
   "outputs": [],
   "source": [
    "# Scaling the Train and Test feature set \n",
    "# from sklearn.preprocessing import StandardScaler\n",
    "# scaler = StandardScaler()\n",
    "# X_train_scaled = scaler.fit_transform(X_train)\n",
    "# X_test_scaled = scaler.transform(X_test)"
   ]
  },
  {
   "cell_type": "markdown",
   "id": "be2179c4-7d4c-4f1d-b764-bc9c09d51feb",
   "metadata": {},
   "source": [
    "##### Hyperparameter tuning using grid search and cross validation"
   ]
  },
  {
   "cell_type": "code",
   "execution_count": null,
   "id": "7e655c54-20a4-4029-9246-3299a64e1aed",
   "metadata": {},
   "outputs": [],
   "source": [
    "#Libraries to Build Ensemble Model : Random Forest Classifier \n",
    "# Create the parameter grid based on the results of random search \n",
    "params_grid = [{'kernel': ['rbf'], 'gamma': [1e-3, 1e-4],\n",
    "                     'C': [1, 10, 100, 1000]},\n",
    "                    {'kernel': ['linear'], 'C': [1, 10, 100, 1000]}]"
   ]
  },
  {
   "cell_type": "markdown",
   "id": "e6c9206e-eb0c-4ab6-ac5e-30af8117da31",
   "metadata": {},
   "source": [
    "#### Training SVM model using radial kernel"
   ]
  },
  {
   "cell_type": "code",
   "execution_count": null,
   "id": "ce9909bd-2f02-49e5-bde0-676fe6da433c",
   "metadata": {},
   "outputs": [],
   "source": [
    "from sklearn.utils import shuffle\n",
    "from sklearn.svm import SVC\n",
    "from sklearn.metrics import confusion_matrix,classification_report\n",
    "from sklearn.model_selection import cross_val_score, GridSearchCV"
   ]
  },
  {
   "cell_type": "code",
   "execution_count": null,
   "id": "6a172356-16b7-4b79-b601-c0b7f4b9f2fe",
   "metadata": {},
   "outputs": [],
   "source": [
    "# Performing CV to tune parameters for best SVM fit \n",
    "svm_model = GridSearchCV(SVC(), params_grid, cv=5)\n",
    "svm_model.fit(X_train, Y_train)"
   ]
  },
  {
   "cell_type": "code",
   "execution_count": null,
   "id": "dcd59998-41eb-4054-9cb1-88e77175afec",
   "metadata": {},
   "outputs": [],
   "source": []
  }
 ],
 "metadata": {
  "kernelspec": {
   "display_name": "Python 3 (ipykernel)",
   "language": "python",
   "name": "python3"
  },
  "language_info": {
   "codemirror_mode": {
    "name": "ipython",
    "version": 3
   },
   "file_extension": ".py",
   "mimetype": "text/x-python",
   "name": "python",
   "nbconvert_exporter": "python",
   "pygments_lexer": "ipython3",
   "version": "3.10.10"
  }
 },
 "nbformat": 4,
 "nbformat_minor": 5
}
