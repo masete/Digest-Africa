{
 "cells": [
  {
   "cell_type": "code",
   "execution_count": 1,
   "id": "50b94e12-9412-4415-b6ac-2aba9bf6f83e",
   "metadata": {},
   "outputs": [],
   "source": [
    "# !pip install tensorflow"
   ]
  },
  {
   "cell_type": "code",
   "execution_count": 2,
   "id": "41b24e7f-1637-4a29-a362-cfa0e3b13c80",
   "metadata": {},
   "outputs": [],
   "source": [
    "import pandas as pd\n",
    "import numpy as np\n",
    "# import sklearn as sk\n",
    "from matplotlib import pyplot as plt\n",
    "import seaborn as sn\n",
    "import seaborn as sns\n",
    "from matplotlib import pyplot\n",
    "# from keras.models import Sequential\n",
    "# from keras.layers import Dense\n",
    "# from sklearn.linear_model import LinearRegression\n",
    "# from sklearn.linear_model import LogisticRegression\n",
    "# from sklearn.tree import DecisionTreeClassifier\n",
    "from sklearn.model_selection import GridSearchCV, train_test_split, cross_val_score\n",
    "from sklearn.metrics import confusion_matrix,classification_report\n",
    "from sklearn.preprocessing import LabelEncoder\n",
    "# from sklearn.metrics import r2_score, explained_variance_score, confusion_matrix, accuracy_score, classification_report, log_loss\n",
    "from math import sqrt\n",
    "\n",
    "# Creating the modeling dataset\n",
    "# from sklearn.datasets import make_classification\n",
    "# Data processing\n",
    "\n",
    "# Model and performance\n",
    "#from sklearn.model_selection import train_test_split\n",
    "# from sklearn.ensemble import RandomForestClassifier\n",
    "# from sklearn.metrics import classification_report\n",
    "\n",
    "# Oversampling and under sampling\n",
    "# from imblearn.over_sampling import RandomOverSampler, SMOTE\n",
    "# from imblearn.under_sampling import RandomUnderSampler, NearMiss\n",
    "# from collections import Counter\n",
    "%matplotlib inline\n"
   ]
  },
  {
   "cell_type": "code",
   "execution_count": 3,
   "id": "5c85a9fa-1d5b-4ac3-b445-1ea578553da7",
   "metadata": {},
   "outputs": [],
   "source": [
    "\n",
    "# Load and preprocess the data\n",
    "# data = pd.read_csv(\"startup_funding.csv\")\n",
    "# X = data.iloc[:, 0:10].values\n",
    "# y = data.iloc[:, 10:].values\n",
    "\n",
    "# Define the neural network architecture\n",
    "# model = Sequential()\n",
    "# model.add(Dense(64, input_dim=10, activation='relu'))\n",
    "# model.add(Dense(32, activation='relu'))\n",
    "# model.add(Dense(16, activation='relu'))\n",
    "# model.add(Dense(8, activation='softmax'))\n",
    "\n",
    "# Compile the model\n",
    "# model.compile(loss='categorical_crossentropy', optimizer='adam', metrics=['accuracy'])\n",
    "\n",
    "# Train the model\n",
    "# model.fit(X, y, epochs=50, batch_size=32, validation_split=0.2)\n",
    "\n",
    "# Generate predictions for a new startup\n",
    "# new_startup = np.array([[1000000, 0, 1, 0, 0, 0, 1, 0, 0, 0]])\n",
    "# predictions = model.predict(new_startup)\n",
    "\n",
    "# Select the output nodes with the highest activation levels\n",
    "# investors = np.argsort(predictions)[0][-15:]"
   ]
  },
  {
   "cell_type": "code",
   "execution_count": 4,
   "id": "30ee06df-118b-475a-804a-b175d8a4d291",
   "metadata": {},
   "outputs": [],
   "source": [
    "# Load and preprocess the data\n",
    "# data = pd.read_csv(\"startup_funding.csv\")\n",
    "# X = data.iloc[:, 0:10].values\n",
    "# investor_names = data.columns[10:].tolist()\n",
    "# y = data.iloc[:, 10:].values\n",
    "\n",
    "# Define the neural network architecture\n",
    "# model = Sequential()\n",
    "# model.add(Dense(64, input_dim=10, activation='relu'))\n",
    "# model.add(Dense(32, activation='relu'))\n",
    "# model.add(Dense(16, activation='relu'))\n",
    "# model.add(Dense(len(investor_names), activation='softmax'))\n",
    "\n",
    "# Compile the model\n",
    "# model.compile(loss='categorical_crossentropy', optimizer='adam', metrics=['accuracy'])\n",
    "\n",
    "# Train the model\n",
    "# model.fit(X, y, epochs=50, batch_size=32, validation_split=0.2)\n",
    "\n",
    "# Generate predictions for a new startup\n",
    "# new_startup = np.array([[1000000, 0, 1, 0, 0, 0, 1, 0, 0, 0]])\n",
    "# predictions = model.predict(new_startup)\n",
    "\n",
    "# Map the numeric output to investor names\n",
    "# investor_probs = {name: prob for name, prob in zip(investor_names, predictions[0])}\n",
    "# top_investors = sorted(investor_probs, key=investor_probs.get, reverse=True)[:15]\n"
   ]
  },
  {
   "cell_type": "code",
   "execution_count": 5,
   "id": "a0174914-3559-497e-82a0-81e7620b65c7",
   "metadata": {},
   "outputs": [
    {
     "data": {
      "text/plain": [
       "(726, 14)"
      ]
     },
     "execution_count": 5,
     "metadata": {},
     "output_type": "execute_result"
    }
   ],
   "source": [
    "# df_deals = pd.read_excel ('../data/Deals (investment).xlsx')\n",
    "# df_deals.head()\n",
    "\n",
    "train = pd.read_csv ('train.csv')\n",
    "train.shape"
   ]
  },
  {
   "cell_type": "code",
   "execution_count": 6,
   "id": "d7831d51-5925-49d4-8af7-c3be62489cf7",
   "metadata": {},
   "outputs": [
    {
     "data": {
      "text/html": [
       "<div>\n",
       "<style scoped>\n",
       "    .dataframe tbody tr th:only-of-type {\n",
       "        vertical-align: middle;\n",
       "    }\n",
       "\n",
       "    .dataframe tbody tr th {\n",
       "        vertical-align: top;\n",
       "    }\n",
       "\n",
       "    .dataframe thead th {\n",
       "        text-align: right;\n",
       "    }\n",
       "</style>\n",
       "<table border=\"1\" class=\"dataframe\">\n",
       "  <thead>\n",
       "    <tr style=\"text-align: right;\">\n",
       "      <th></th>\n",
       "      <th>6_investors</th>\n",
       "      <th>Deals Information, Level of Completeness</th>\n",
       "      <th>Disclosed</th>\n",
       "      <th>Founded</th>\n",
       "      <th>Total  Disclosed Funding</th>\n",
       "      <th>DA Classification_African Company (Yes = 0; No = 1)</th>\n",
       "      <th>Year</th>\n",
       "      <th>Month</th>\n",
       "      <th>Quarter</th>\n",
       "      <th>Half</th>\n",
       "      <th>Number of Investors</th>\n",
       "      <th>main_sector_encoded</th>\n",
       "      <th>funding_round_encoded</th>\n",
       "      <th>cat_Country</th>\n",
       "    </tr>\n",
       "  </thead>\n",
       "  <tbody>\n",
       "    <tr>\n",
       "      <th>0</th>\n",
       "      <td>First Light Ventures</td>\n",
       "      <td>0.9</td>\n",
       "      <td>1.0</td>\n",
       "      <td>2011.0</td>\n",
       "      <td>6504900.0</td>\n",
       "      <td>0.0</td>\n",
       "      <td>2010.0</td>\n",
       "      <td>8.0</td>\n",
       "      <td>3.0</td>\n",
       "      <td>2.0</td>\n",
       "      <td>1.0</td>\n",
       "      <td>1</td>\n",
       "      <td>1</td>\n",
       "      <td>10</td>\n",
       "    </tr>\n",
       "    <tr>\n",
       "      <th>1</th>\n",
       "      <td>Tim Draper</td>\n",
       "      <td>0.9</td>\n",
       "      <td>1.0</td>\n",
       "      <td>2009.0</td>\n",
       "      <td>32700000.0</td>\n",
       "      <td>0.0</td>\n",
       "      <td>2010.0</td>\n",
       "      <td>9.0</td>\n",
       "      <td>3.0</td>\n",
       "      <td>2.0</td>\n",
       "      <td>1.0</td>\n",
       "      <td>1</td>\n",
       "      <td>1</td>\n",
       "      <td>19</td>\n",
       "    </tr>\n",
       "    <tr>\n",
       "      <th>2</th>\n",
       "      <td>Undisclosed</td>\n",
       "      <td>0.9</td>\n",
       "      <td>1.0</td>\n",
       "      <td>2009.0</td>\n",
       "      <td>7850000.0</td>\n",
       "      <td>0.0</td>\n",
       "      <td>2010.0</td>\n",
       "      <td>12.0</td>\n",
       "      <td>4.0</td>\n",
       "      <td>2.0</td>\n",
       "      <td>1.0</td>\n",
       "      <td>2</td>\n",
       "      <td>2</td>\n",
       "      <td>5</td>\n",
       "    </tr>\n",
       "    <tr>\n",
       "      <th>3</th>\n",
       "      <td>Omidyar Network</td>\n",
       "      <td>0.9</td>\n",
       "      <td>1.0</td>\n",
       "      <td>2008.0</td>\n",
       "      <td>55800000.0</td>\n",
       "      <td>0.0</td>\n",
       "      <td>2011.0</td>\n",
       "      <td>5.0</td>\n",
       "      <td>2.0</td>\n",
       "      <td>1.0</td>\n",
       "      <td>1.0</td>\n",
       "      <td>3</td>\n",
       "      <td>2</td>\n",
       "      <td>23</td>\n",
       "    </tr>\n",
       "    <tr>\n",
       "      <th>4</th>\n",
       "      <td>TBL Mirror Fund</td>\n",
       "      <td>0.9</td>\n",
       "      <td>1.0</td>\n",
       "      <td>2004.0</td>\n",
       "      <td>54500000.0</td>\n",
       "      <td>0.0</td>\n",
       "      <td>2011.0</td>\n",
       "      <td>10.0</td>\n",
       "      <td>4.0</td>\n",
       "      <td>2.0</td>\n",
       "      <td>1.0</td>\n",
       "      <td>1</td>\n",
       "      <td>3</td>\n",
       "      <td>10</td>\n",
       "    </tr>\n",
       "  </tbody>\n",
       "</table>\n",
       "</div>"
      ],
      "text/plain": [
       "            6_investors  Deals Information, Level of Completeness  Disclosed   \\\n",
       "0  First Light Ventures                                       0.9         1.0   \n",
       "1            Tim Draper                                       0.9         1.0   \n",
       "2           Undisclosed                                       0.9         1.0   \n",
       "3       Omidyar Network                                       0.9         1.0   \n",
       "4       TBL Mirror Fund                                       0.9         1.0   \n",
       "\n",
       "   Founded  Total  Disclosed Funding  \\\n",
       "0   2011.0                 6504900.0   \n",
       "1   2009.0                32700000.0   \n",
       "2   2009.0                 7850000.0   \n",
       "3   2008.0                55800000.0   \n",
       "4   2004.0                54500000.0   \n",
       "\n",
       "   DA Classification_African Company (Yes = 0; No = 1)    Year  Month  \\\n",
       "0                                                0.0    2010.0    8.0   \n",
       "1                                                0.0    2010.0    9.0   \n",
       "2                                                0.0    2010.0   12.0   \n",
       "3                                                0.0    2011.0    5.0   \n",
       "4                                                0.0    2011.0   10.0   \n",
       "\n",
       "   Quarter  Half  Number of Investors  main_sector_encoded  \\\n",
       "0      3.0   2.0                  1.0                    1   \n",
       "1      3.0   2.0                  1.0                    1   \n",
       "2      4.0   2.0                  1.0                    2   \n",
       "3      2.0   1.0                  1.0                    3   \n",
       "4      4.0   2.0                  1.0                    1   \n",
       "\n",
       "   funding_round_encoded  cat_Country  \n",
       "0                      1           10  \n",
       "1                      1           19  \n",
       "2                      2            5  \n",
       "3                      2           23  \n",
       "4                      3           10  "
      ]
     },
     "execution_count": 6,
     "metadata": {},
     "output_type": "execute_result"
    }
   ],
   "source": [
    "test = pd.read_csv ('train.csv')\n",
    "test.head()"
   ]
  },
  {
   "cell_type": "code",
   "execution_count": 7,
   "id": "401ac3eb-46d7-4a01-abd8-68af063cc938",
   "metadata": {},
   "outputs": [],
   "source": [
    "# Seperating Predictors and Outcome values from train and test sets\n",
    "X_train = pd.DataFrame(train.drop(['6_investors'],axis=1))\n",
    "Y_train_label = train['6_investors'].values.astype(object)\n",
    "X_test = pd.DataFrame(test.drop(['6_investors'],axis=1))\n",
    "Y_test_label = test['6_investors'].values.astype(object)\n"
   ]
  },
  {
   "cell_type": "code",
   "execution_count": 8,
   "id": "0873db14-efc6-4eda-ab7a-988e8fea5eec",
   "metadata": {},
   "outputs": [],
   "source": [
    "# Transforming non numerical labels into numerical labels\n",
    "from sklearn import preprocessing\n",
    "encoder = preprocessing.LabelEncoder()\n",
    "\n",
    "# encoding train labels \n",
    "encoder.fit(Y_train_label)\n",
    "Y_train = encoder.transform(Y_train_label)\n",
    "\n",
    "# encoding test labels \n",
    "encoder.fit(Y_test_label)\n",
    "Y_test = encoder.transform(Y_test_label)\n"
   ]
  },
  {
   "cell_type": "code",
   "execution_count": 9,
   "id": "f7a293e3-f3fa-44c9-a085-2cf32f0dc7ef",
   "metadata": {},
   "outputs": [
    {
     "name": "stdout",
     "output_type": "stream",
     "text": [
      "Number of numeric features: 13\n"
     ]
    },
    {
     "data": {
      "text/plain": [
       "Index(['Deals Information, Level of Completeness', 'Disclosed ', 'Founded',\n",
       "       'Total  Disclosed Funding',\n",
       "       'DA Classification_African Company (Yes = 0; No = 1)', 'Year', 'Month',\n",
       "       'Quarter', 'Half', 'Number of Investors', 'main_sector_encoded',\n",
       "       'funding_round_encoded', 'cat_Country'],\n",
       "      dtype='object')"
      ]
     },
     "execution_count": 9,
     "metadata": {},
     "output_type": "execute_result"
    }
   ],
   "source": [
    "#Total Number of Continous and Categorical features in the training set\n",
    "num_cols = X_train._get_numeric_data().columns\n",
    "print(\"Number of numeric features:\",num_cols.size)\n",
    "#list(set(X_train.columns) - set(num_cols))\n",
    "num_cols"
   ]
  },
  {
   "cell_type": "code",
   "execution_count": 10,
   "id": "5d0c00f1-a745-4c47-9b9f-cf1525a15241",
   "metadata": {},
   "outputs": [],
   "source": [
    "names_of_predictors = list(X_train.columns.values)\n",
    "\n",
    "# Scaling the Train and Test feature set \n",
    "from sklearn.preprocessing import StandardScaler\n",
    "scaler = StandardScaler()\n",
    "X_train_scaled = scaler.fit_transform(X_train)\n",
    "X_test_scaled = scaler.transform(X_test)"
   ]
  },
  {
   "cell_type": "markdown",
   "id": "7eae9595-0b85-4f84-97aa-06ff4c84279e",
   "metadata": {},
   "source": [
    "#### Hyperparameter tuning using grid search and cross validation"
   ]
  },
  {
   "cell_type": "code",
   "execution_count": 11,
   "id": "eac119f3-d5f2-4396-af0d-5297600064a2",
   "metadata": {},
   "outputs": [],
   "source": [
    "#Libraries to Build Ensemble Model : Random Forest Classifier \n",
    "# Create the parameter grid based on the results of random search \n",
    "params_grid = [{'kernel': ['rbf'], 'gamma': [1e-3, 1e-4],\n",
    "                     'C': [1, 10, 100, 1000]},\n",
    "                    {'kernel': ['linear'], 'C': [1, 10, 100, 1000]}]"
   ]
  },
  {
   "cell_type": "code",
   "execution_count": 12,
   "id": "26cf1d87-f430-49b2-b407-d443ed71798f",
   "metadata": {},
   "outputs": [],
   "source": [
    "# kernel = ['linear','rbf','poly','sigmoid']\n",
    "# for i in kernel:\n",
    "#     svm_model = SVC(kernel=i, C=1.0)\n",
    "#     svm_model.fit(X_train_scaled, Y_train)\n",
    "    "
   ]
  },
  {
   "cell_type": "code",
   "execution_count": 13,
   "id": "ed9addf6-f1f8-4b1e-8193-275c7679914c",
   "metadata": {},
   "outputs": [],
   "source": [
    "# print('for kennel: ', i)\n",
    "# print('accuracy is : ', svm_model.score(X_train_scaled , Y_train))"
   ]
  },
  {
   "cell_type": "markdown",
   "id": "27876360-7b3b-4471-8bc5-01eca3ca57b9",
   "metadata": {},
   "source": [
    "#### Training SVM model using radial kernel"
   ]
  },
  {
   "cell_type": "code",
   "execution_count": 15,
   "id": "5eafe63d-ef54-467e-96f9-03016571ef26",
   "metadata": {},
   "outputs": [
    {
     "name": "stderr",
     "output_type": "stream",
     "text": [
      "/home/nicholas/.local/lib/python3.10/site-packages/sklearn/model_selection/_split.py:684: UserWarning: The least populated class in y has only 1 members, which is less than n_splits=5.\n",
      "  warnings.warn(\n"
     ]
    },
    {
     "data": {
      "text/html": [
       "<style>#sk-container-id-1 {color: black;background-color: white;}#sk-container-id-1 pre{padding: 0;}#sk-container-id-1 div.sk-toggleable {background-color: white;}#sk-container-id-1 label.sk-toggleable__label {cursor: pointer;display: block;width: 100%;margin-bottom: 0;padding: 0.3em;box-sizing: border-box;text-align: center;}#sk-container-id-1 label.sk-toggleable__label-arrow:before {content: \"▸\";float: left;margin-right: 0.25em;color: #696969;}#sk-container-id-1 label.sk-toggleable__label-arrow:hover:before {color: black;}#sk-container-id-1 div.sk-estimator:hover label.sk-toggleable__label-arrow:before {color: black;}#sk-container-id-1 div.sk-toggleable__content {max-height: 0;max-width: 0;overflow: hidden;text-align: left;background-color: #f0f8ff;}#sk-container-id-1 div.sk-toggleable__content pre {margin: 0.2em;color: black;border-radius: 0.25em;background-color: #f0f8ff;}#sk-container-id-1 input.sk-toggleable__control:checked~div.sk-toggleable__content {max-height: 200px;max-width: 100%;overflow: auto;}#sk-container-id-1 input.sk-toggleable__control:checked~label.sk-toggleable__label-arrow:before {content: \"▾\";}#sk-container-id-1 div.sk-estimator input.sk-toggleable__control:checked~label.sk-toggleable__label {background-color: #d4ebff;}#sk-container-id-1 div.sk-label input.sk-toggleable__control:checked~label.sk-toggleable__label {background-color: #d4ebff;}#sk-container-id-1 input.sk-hidden--visually {border: 0;clip: rect(1px 1px 1px 1px);clip: rect(1px, 1px, 1px, 1px);height: 1px;margin: -1px;overflow: hidden;padding: 0;position: absolute;width: 1px;}#sk-container-id-1 div.sk-estimator {font-family: monospace;background-color: #f0f8ff;border: 1px dotted black;border-radius: 0.25em;box-sizing: border-box;margin-bottom: 0.5em;}#sk-container-id-1 div.sk-estimator:hover {background-color: #d4ebff;}#sk-container-id-1 div.sk-parallel-item::after {content: \"\";width: 100%;border-bottom: 1px solid gray;flex-grow: 1;}#sk-container-id-1 div.sk-label:hover label.sk-toggleable__label {background-color: #d4ebff;}#sk-container-id-1 div.sk-serial::before {content: \"\";position: absolute;border-left: 1px solid gray;box-sizing: border-box;top: 0;bottom: 0;left: 50%;z-index: 0;}#sk-container-id-1 div.sk-serial {display: flex;flex-direction: column;align-items: center;background-color: white;padding-right: 0.2em;padding-left: 0.2em;position: relative;}#sk-container-id-1 div.sk-item {position: relative;z-index: 1;}#sk-container-id-1 div.sk-parallel {display: flex;align-items: stretch;justify-content: center;background-color: white;position: relative;}#sk-container-id-1 div.sk-item::before, #sk-container-id-1 div.sk-parallel-item::before {content: \"\";position: absolute;border-left: 1px solid gray;box-sizing: border-box;top: 0;bottom: 0;left: 50%;z-index: -1;}#sk-container-id-1 div.sk-parallel-item {display: flex;flex-direction: column;z-index: 1;position: relative;background-color: white;}#sk-container-id-1 div.sk-parallel-item:first-child::after {align-self: flex-end;width: 50%;}#sk-container-id-1 div.sk-parallel-item:last-child::after {align-self: flex-start;width: 50%;}#sk-container-id-1 div.sk-parallel-item:only-child::after {width: 0;}#sk-container-id-1 div.sk-dashed-wrapped {border: 1px dashed gray;margin: 0 0.4em 0.5em 0.4em;box-sizing: border-box;padding-bottom: 0.4em;background-color: white;}#sk-container-id-1 div.sk-label label {font-family: monospace;font-weight: bold;display: inline-block;line-height: 1.2em;}#sk-container-id-1 div.sk-label-container {text-align: center;}#sk-container-id-1 div.sk-container {/* jupyter's `normalize.less` sets `[hidden] { display: none; }` but bootstrap.min.css set `[hidden] { display: none !important; }` so we also need the `!important` here to be able to override the default hidden behavior on the sphinx rendered scikit-learn.org. See: https://github.com/scikit-learn/scikit-learn/issues/21755 */display: inline-block !important;position: relative;}#sk-container-id-1 div.sk-text-repr-fallback {display: none;}</style><div id=\"sk-container-id-1\" class=\"sk-top-container\"><div class=\"sk-text-repr-fallback\"><pre>GridSearchCV(cv=5, estimator=SVC(),\n",
       "             param_grid=[{&#x27;C&#x27;: [1, 10, 100, 1000], &#x27;gamma&#x27;: [0.001, 0.0001],\n",
       "                          &#x27;kernel&#x27;: [&#x27;rbf&#x27;]},\n",
       "                         {&#x27;C&#x27;: [1, 10, 100, 1000], &#x27;kernel&#x27;: [&#x27;linear&#x27;]}])</pre><b>In a Jupyter environment, please rerun this cell to show the HTML representation or trust the notebook. <br />On GitHub, the HTML representation is unable to render, please try loading this page with nbviewer.org.</b></div><div class=\"sk-container\" hidden><div class=\"sk-item sk-dashed-wrapped\"><div class=\"sk-label-container\"><div class=\"sk-label sk-toggleable\"><input class=\"sk-toggleable__control sk-hidden--visually\" id=\"sk-estimator-id-1\" type=\"checkbox\" ><label for=\"sk-estimator-id-1\" class=\"sk-toggleable__label sk-toggleable__label-arrow\">GridSearchCV</label><div class=\"sk-toggleable__content\"><pre>GridSearchCV(cv=5, estimator=SVC(),\n",
       "             param_grid=[{&#x27;C&#x27;: [1, 10, 100, 1000], &#x27;gamma&#x27;: [0.001, 0.0001],\n",
       "                          &#x27;kernel&#x27;: [&#x27;rbf&#x27;]},\n",
       "                         {&#x27;C&#x27;: [1, 10, 100, 1000], &#x27;kernel&#x27;: [&#x27;linear&#x27;]}])</pre></div></div></div><div class=\"sk-parallel\"><div class=\"sk-parallel-item\"><div class=\"sk-item\"><div class=\"sk-label-container\"><div class=\"sk-label sk-toggleable\"><input class=\"sk-toggleable__control sk-hidden--visually\" id=\"sk-estimator-id-2\" type=\"checkbox\" ><label for=\"sk-estimator-id-2\" class=\"sk-toggleable__label sk-toggleable__label-arrow\">estimator: SVC</label><div class=\"sk-toggleable__content\"><pre>SVC()</pre></div></div></div><div class=\"sk-serial\"><div class=\"sk-item\"><div class=\"sk-estimator sk-toggleable\"><input class=\"sk-toggleable__control sk-hidden--visually\" id=\"sk-estimator-id-3\" type=\"checkbox\" ><label for=\"sk-estimator-id-3\" class=\"sk-toggleable__label sk-toggleable__label-arrow\">SVC</label><div class=\"sk-toggleable__content\"><pre>SVC()</pre></div></div></div></div></div></div></div></div></div></div>"
      ],
      "text/plain": [
       "GridSearchCV(cv=5, estimator=SVC(),\n",
       "             param_grid=[{'C': [1, 10, 100, 1000], 'gamma': [0.001, 0.0001],\n",
       "                          'kernel': ['rbf']},\n",
       "                         {'C': [1, 10, 100, 1000], 'kernel': ['linear']}])"
      ]
     },
     "execution_count": 15,
     "metadata": {},
     "output_type": "execute_result"
    }
   ],
   "source": [
    "# Performing CV to tune parameters for best SVM fit \n",
    "from sklearn.svm import SVC\n",
    "svm_model = GridSearchCV(SVC(), params_grid, cv=5)\n",
    "svm_model.fit(X_train_scaled, Y_train)"
   ]
  },
  {
   "cell_type": "markdown",
   "id": "ab0e644c-de36-456f-a8fe-aa6911f9a391",
   "metadata": {},
   "source": [
    "#### Confusion Matrix and Accuracy Score\n"
   ]
  },
  {
   "cell_type": "code",
   "execution_count": 16,
   "id": "2660bca3-e403-4008-aea5-568781f0507b",
   "metadata": {},
   "outputs": [
    {
     "name": "stdout",
     "output_type": "stream",
     "text": [
      "Best score for training data: 0.1625413320736892 \n",
      "\n",
      "Best C: 1 \n",
      "\n",
      "Best Kernel: rbf \n",
      "\n",
      "Best Gamma: 0.001 \n",
      "\n"
     ]
    }
   ],
   "source": [
    "# View the accuracy score\n",
    "print('Best score for training data:', svm_model.best_score_,\"\\n\") \n",
    "\n",
    "# View the best parameters for the model found using grid search\n",
    "print('Best C:',svm_model.best_estimator_.C,\"\\n\") \n",
    "print('Best Kernel:',svm_model.best_estimator_.kernel,\"\\n\")\n",
    "print('Best Gamma:',svm_model.best_estimator_.gamma,\"\\n\")\n",
    "\n",
    "final_model = svm_model.best_estimator_\n",
    "Y_pred = final_model.predict(X_test_scaled)\n",
    "Y_pred_label = list(encoder.inverse_transform(Y_pred))"
   ]
  },
  {
   "cell_type": "code",
   "execution_count": 17,
   "id": "a563dd58-4cf5-4cbc-922c-4a08d6eabdda",
   "metadata": {},
   "outputs": [
    {
     "name": "stdout",
     "output_type": "stream",
     "text": [
      "\n",
      "\n"
     ]
    },
    {
     "name": "stderr",
     "output_type": "stream",
     "text": [
      "/home/nicholas/.local/lib/python3.10/site-packages/sklearn/metrics/_classification.py:1334: UndefinedMetricWarning: Precision and F-score are ill-defined and being set to 0.0 in labels with no predicted samples. Use `zero_division` parameter to control this behavior.\n",
      "  _warn_prf(average, modifier, msg_start, len(result))\n",
      "/home/nicholas/.local/lib/python3.10/site-packages/sklearn/metrics/_classification.py:1334: UndefinedMetricWarning: Precision and F-score are ill-defined and being set to 0.0 in labels with no predicted samples. Use `zero_division` parameter to control this behavior.\n",
      "  _warn_prf(average, modifier, msg_start, len(result))\n",
      "/home/nicholas/.local/lib/python3.10/site-packages/sklearn/metrics/_classification.py:1334: UndefinedMetricWarning: Precision and F-score are ill-defined and being set to 0.0 in labels with no predicted samples. Use `zero_division` parameter to control this behavior.\n",
      "  _warn_prf(average, modifier, msg_start, len(result))\n"
     ]
    },
    {
     "name": "stdout",
     "output_type": "stream",
     "text": [
      "                                                                                                                                                                                                         precision    recall  f1-score   support\n",
      "\n",
      "                                                                                                                                                                                                BoostVC       0.00      0.00      0.00         1\n",
      "                                                                                                                                                                                        Flat6Labs Cairo       0.00      0.00      0.00         1\n",
      "                                                                                                                                                                                          1776 Ventures       0.00      0.00      0.00         1\n",
      "                                                                                             4DX Ventures, Breyer Capital, Social Capital, Golden Palm Investments Holding Co., Shravin Bharti Mittal,        0.00      0.00      0.00         1\n",
      "                                                                                                              4DX Ventures, Village Global, Lynett Capital, Golden, Palm Investments, Outlierz Ventures       0.00      0.00      0.00         1\n",
      "                                                                                     4DX Ventures, Y Combinator, Western Technology Investment, Social Capital, Lynett Capital, Golden Palm Investments       0.00      0.00      0.00         1\n",
      "                                                                                                                                                                             4Di Capital, Savannah Fund       0.00      0.00      0.00         1\n",
      "                                                                                                                                                                                           500 Startups       0.00      0.00      0.00        12\n",
      "                                                                                                                                                                            500 Startups, ACE & Company       0.00      0.00      0.00         1\n",
      "                                                                                                                      500 Startups, Endure Capital, Averroes Ventures, Egypt Ventures, Ahmed Abdelhamid       0.00      0.00      0.00         1\n",
      "                                                                                                                                                                 500 Startups, Endure Capital, HIMangel       0.00      0.00      0.00         2\n",
      "                                                                                                                                                      500 Startups, Vodafone Ventures, Algebra Ventures       0.00      0.00      0.00         1\n",
      "                                                                                                                                                                                           500 startups       0.00      0.00      0.00         1\n",
      "                                                                                                                                                                                                    A15       0.00      0.00      0.00         2\n",
      "                                                                                                                             ACE & Company, The Family, Cross Culture Ventures, Orange Digital Ventures       0.00      0.00      0.00         1\n",
      "                                                                                                                                                                                   AHL Venture Partners       0.00      0.00      0.00         1\n",
      "                                                                                                                                            AHL Venture Partners, Small Foundation , Jordan Engineering       0.00      0.00      0.00         1\n",
      "                                                                                                                                                                                        AUC Venture Lab       0.00      0.00      0.00         2\n",
      "                                                                                                                                                                                              Absa Bank       0.00      0.00      0.00         1\n",
      "                                                                                                                                                      Accel, Amr Awadallah, Jim Payne, Sharif El-Badawi       0.00      0.00      0.00         1\n",
      "                                                                                                                                                                                     Accion Venture Lab       0.00      0.00      0.00         1\n",
      "                                                                                                                                           Accion Venture Lab, Bamboo Finance, Javelin Venture Partners       0.00      0.00      0.00         1\n",
      "                                                                                                                                                                                Accion, Omidyar Network       0.00      0.00      0.00         1\n",
      "                                                                                                                                                                                      Adventure Capital       0.00      0.00      0.00         1\n",
      "                                                                                                                                                                                     Aeternity Ventures       0.00      0.00      0.00         1\n",
      "                                                                                                                                                                                            AfricInvest       0.00      0.00      0.00         1\n",
      "                                                                                                                                                                         African Entrepreneurship Award       0.00      0.00      0.00         5\n",
      "                                                                                                                                                                                            Ahmed Habib       0.00      0.00      0.00         1\n",
      "                                                                                                                                                                                     Airband Grant Fund       0.00      0.00      0.00         1\n",
      "                                                                                                                                                                                       Algebra Ventures       0.00      0.00      0.00         3\n",
      "                                                                                                                                                                         Algebra Ventures, 500 Startups       0.00      0.00      0.00         1\n",
      "                                                                                                                                                                        All On, Co-Creation Hub Nigeria       0.00      0.00      0.00         1\n",
      "                                                                                                                                                                                          Alphabit Fund       0.00      0.00      0.00         1\n",
      "                                                                                                                                                                                        Alphawave group       0.00      0.00      0.00         1\n",
      "                                                                                                                                                                               Amadeus Capital Partners       0.00      0.00      0.00         1\n",
      "                                                                                                                                                                    Amadeus Capital Partners, MTN Group       0.00      0.00      0.00         1\n",
      "                                                                                                                                                                                    Amazon Web Services       0.00      0.00      0.00         2\n",
      "                                                                                                                                                                Anders Holch Povlsen, Omidyar Network,        0.00      0.00      0.00         1\n",
      "                                                                                                                                                                                      AngelHub Ventures       0.00      0.00      0.00         1\n",
      "                                                                                                                                                                                         Anthemis Group       0.00      0.00      0.00         1\n",
      "                                                                                                                                                                                Arabian Venture Capital       0.00      0.00      0.00         1\n",
      "                                                                                                                                                                                  Arzan Venture Capital       0.00      0.00      0.00         1\n",
      "   Asia Africa Investment & Consulting, The Danone Communities Mutual Fund, Stone Family Foundation, Segal Family Foundation, NRD Capital Management, Maclellan Foundation, Conrad N. Hilton Foundation       0.00      0.00      0.00         1\n",
      "                                                                                                                           Averroes Ventures, Egypt Ventures, 500 Startups, Endure Capital, Alex Angels       0.00      0.00      0.00         1\n",
      "                                                                                                                                                                                  Axa Insurance Morocco       0.00      0.00      0.00         1\n",
      "                                                                                                                                                            BECO Capital, DiGame, Silicon Badia, Careem       0.00      0.00      0.00         1\n",
      "                                                                                                                                      BECO Capital, Raed Ventures, Silicon Badia, Arzan Venture Capital       0.00      0.00      0.00         1\n",
      "                                                                                                                                          BECO Capital, Silicon Badia, TDF Capital, Vostok New Ventures       0.00      0.00      0.00         1\n",
      "                                                                                                                                                                          Battery Road Digital Holdings       0.00      0.00      0.00         1\n",
      "                                                                                                                                                        Battery Road Digital Holdings, Algebra Ventures       0.00      0.00      0.00         1\n",
      "                                                                                                                                                                                          Benson Ajabor       0.00      0.00      0.00         1\n",
      "                                                                                                                                                          Beta. Ventures, Collins Onuegbu, Sam Senbanjo       0.00      0.00      0.00         1\n",
      "                                                                                                                                                                                        Better Ventures       0.00      0.00      0.00         1\n",
      "                                                                                                                                                                        Bill & Melinda Gates Foundation       0.00      0.00      0.00         1\n",
      "                                                                                                                                                              Bill Paladino, Jacques Ludik, Maude Gliwa       0.00      0.00      0.00         1\n",
      "                                                                                                                                                                                        BitFury Capital       0.00      0.00      0.00         1\n",
      "                                                                                                                                                 Blakeney Management, Rocket Internet, Millicom Systems       0.00      0.00      0.00         1\n",
      "                                                                                                                                                            Blue Garnet Investments, Investec, Crossfin       0.00      0.00      0.00         1\n",
      "                                                                                                                                                               Blue Haven Initiative, Lundin Foundation       0.00      0.00      0.00         1\n",
      "                                                                                                                                                                                              Bpifrance       0.00      0.00      0.00         1\n",
      "                                                                                                                                                                                            CDC Gestion       0.00      0.00      0.00         1\n",
      "                                                                                                                                                                                        CFAO Automotive       0.00      0.00      0.00         1\n",
      "                                                                                                                                                                                            CFC Stanbic       0.00      0.00      0.00         1\n",
      "                                                                                                                                                                                    CRE Venture Capital       0.00      0.00      0.00         1\n",
      "                                                                                                                                               CRE Venture Capital, Draper Dark Flow, Identity Partners       0.00      0.00      0.00         1\n",
      "                                                                                                                                                                                           Cairo Angels       0.00      0.00      0.00         4\n",
      "                                                                                                                                                                             Cairo Angels, 500 Startups       0.00      0.00      0.00         1\n",
      "                                                                                                                                                                              Cairo Angels, Alex Angels       0.00      0.00      0.00         1\n",
      "                                                                                                                                                                                 Capsa Capital Partners       0.00      0.00      0.00         1\n",
      "                                                                                                                                                                                                 Careem       0.00      0.00      0.00         1\n",
      "                                                                                                                                                        Chandaria Capital, Majlis Investment Management       0.00      0.00      0.00         1\n",
      "                                                                                                                                                                                   Chandaria Industries       0.00      0.00      0.00         1\n",
      "                                                                                                                                                               Chinook Capital, Co-creation Hub Nigeria       0.00      0.00      0.00         1\n",
      "                                                                                                                                                                       Clifftop Colony Capital Partners       0.00      0.00      0.00         2\n",
      "                                                                                                                                                          Clipperton, Soeximex, Pole Innovation Metiers       0.00      0.00      0.00         1\n",
      "                                                                                                                                                                                Co-Creation Hub Nigeria       0.00      0.00      0.00         7\n",
      "                                                                                                                                      Compagnie d’Assurance et de Réassurance Tuniso-Européenne (Carte)       0.00      0.00      0.00         1\n",
      "                                                                                                                                                                                Compass Venture Capital       0.00      0.00      0.00         1\n",
      "                                                                                                                                                                 Connecticut's Global Venture Challenge       0.00      0.00      0.00         1\n",
      "                                                                                                                                                                        Consonance Investment Managers        0.00      0.00      0.00         5\n",
      "                                                                                                                                                                                   Convergence Partners       0.00      0.00      0.00         1\n",
      "                                                                                                                                                                                             CreditInfo       0.00      0.00      0.00         1\n",
      "                                                                                                                                                                                 Cross Culture Ventures       0.00      0.00      0.00         1\n",
      "                                                                                                                                                                                                DFS Lab       0.00      0.00      0.00         3\n",
      "                                                                                                                                                                                            DHD Holding       0.00      0.00      0.00         1\n",
      "                                                                                                                                                                                             DOB Equity       0.00      0.00      0.00         3\n",
      "                                                                                                                                                                                 DOB Equity, CFAO GROUP       0.00      0.00      0.00         1\n",
      "                                                                                                                                                                                     Damien Guermonprez       0.00      0.00      0.00         1\n",
      "                                                                                                                                                                      Daniel van Tonder, Willem van Zyl       0.00      0.00      0.00         1\n",
      "                                                                                                                                                                Danish International Development Agency       0.00      0.00      0.00         1\n",
      "                                                                                                                                                                                      Darshan Chandaria       0.00      0.00      0.00         2\n",
      "                                                                                                                                                                                               Daud Nur       0.00      0.00      0.00         1\n",
      "                                                                                                                                                        Department for International Development (DFID)       0.00      0.00      0.00         2\n",
      "                                                                                                                                                                                           Diamond Bank       0.00      0.00      0.00         1\n",
      "                                                                                                                                                                                 Digital Currency Group       0.00      0.00      0.00         1\n",
      "                                                                                                                                                                                Discover PreAccelerator       0.00      0.00      0.00         1\n",
      "                                                                                                                                                                      Draper Richards Kaplan Foundation       0.00      0.00      0.00         1\n",
      "                                                                                                                                                            EDF, Energy Access Ventures, Partners Group       0.00      0.00      0.00         2\n",
      "                                                                                                                                                                                                 EFG-EG       0.00      0.00      0.00         1\n",
      "                                                                                                                                                                                        EchoVC Partners       0.00      0.00      0.00         4\n",
      "                                                                                                                                                   EchoVC Partners, Co-Creation Hub Nigeria, Fola Laoye       0.00      0.00      0.00         1\n",
      "                                                                                                    EchoVC Partners, Kima Ventures, Founders Factory, Burda Principle Investments, First Minute Capital       0.00      0.00      0.00         1\n",
      "                                                                                                                                                                              Ecobank Fintech Challenge       0.00      0.00      0.00         1\n",
      "                                                                                                                                                         Emaar, Kauffman Fellows, Dubai Angel Investors       0.00      0.00      0.00         1\n",
      "                                                                                                                                            Endeavor, Silicon Badia, Vostok New Ventures, Vulkan Equity       0.00      0.00      0.00         1\n",
      "                                                                                                                                                                                         Endure Capital       0.00      0.00      0.00         1\n",
      "                                                                                                               Endure Capital, 500 Startups, Flat5Labs, Khaled Alashmouny, Karim Hussein, Con O'Donnell       0.00      0.00      0.00         1\n",
      "                                                                                                                                                                                    Endure Capital, A15       0.00      0.00      0.00         1\n",
      "                                                                                                                                                                           Endure capital, 500 startups       0.00      0.00      0.00         1\n",
      "                                                                                                                                                                       Engineers Without Borders Canada       0.00      0.00      0.00         1\n",
      "                                                                                                                                                                                           Eric Nadalin       0.00      0.00      0.00         1\n",
      "                                                                                                                     European Bank for Reconstruction and Development, Kingsway Capital, Endure Capital       0.00      0.00      0.00         1\n",
      "                                                                                                                                                                         European Investment Bank (EIB)       0.00      0.00      0.00         1\n",
      "                                                                                                                                                                                              Expo Live       0.00      0.00      0.00         1\n",
      "                                                                                                                                                                                                FJ Labs       0.00      0.00      0.00         1\n",
      "                                                                                                                                                                                                    FMO       0.00      0.00      0.00         1\n",
      "                                                                                                                                                                               FMO, Rabobank Foundation       0.00      0.00      0.00         1\n",
      "                                                                                                                                                                                      Factor E Ventures       0.00      0.00      0.00         2\n",
      "                                                                                                                                                                                            Faden Media       0.00      0.00      0.00         1\n",
      "                                                                                                                                                                                         Falak Startups       0.00      0.00      0.00         1\n",
      "                                                                                                                                                                               Fall Armyworm Tech Prize       0.00      0.00      0.00         5\n",
      "                                                                                                                                                                                               Farfetch       0.00      0.00      0.00         1\n",
      "                                                                                                                                                                                                FbStart       0.00      0.00      0.00         1\n",
      "                                                                                                                                                                                                 FinLab       0.00      0.00      0.00         1\n",
      "                                                                                                                                                Finnfund (Finnish Fund for Industrial Cooperation Ltd.)       0.00      0.00      0.00         1\n",
      "                                                                                                                                                                                        Fintec Ventures       0.00      0.00      0.00         1\n",
      "                                                                                                                                                                                   First Light Ventures       0.00      0.00      0.00         1\n",
      "                                                                                                                                                                                              Flat6Labs       0.00      0.00      0.00        13\n",
      "                                                                                               Flat6Labs, Middle East Venture Partners (MEVP), Georges Harik, Cairo Angels, Amr Awadallah, Ihab Hinnawi       0.00      0.00      0.00         1\n",
      "                                                                                                                                                                                        Ford Foundation       0.00      0.00      0.00         2\n",
      "                                                                                                                                                                               Foresight Ventures Kenya       0.00      0.00      0.00         1\n",
      "                                                                                                                                                                              Frontier Digital Ventures       0.00      0.00      0.00         1\n",
      "                                                                                                                                            Future Perfect Ventures, Firestartr, Digital Currency Group       0.00      0.00      0.00         1\n",
      "                                                                                                                                                                          Futuregrowth Asset Management       0.00      0.00      0.00         1\n",
      "                                                                                                                                                                                          Futuristic.vc       0.00      0.00      0.00         1\n",
      "                                                                                                                                                                             GSMA Ecosystem Accelerator       0.00      0.00      0.00        11\n",
      "                                                                                                                                                                  GSMA Ecosystem Accelerator, Seedstars       0.00      0.00      0.00         1\n",
      "                                                                                                                                           Garage Technology Ventures, Patrick Pichette, Garage Capital       0.00      0.00      0.00         1\n",
      "                                                                                                                                                                                       Genesys Tech Hub       0.00      0.00      0.00         2\n",
      "                                                                                                                                                                                                 Getihu       0.00      0.00      0.00         1\n",
      "                                                                                                                                                                       Glenheim Venture Capital Company       0.00      0.00      0.00         1\n",
      "                                                                                                                                                                                 Global Innovation Fund       0.00      0.00      0.00         1\n",
      "                                                                                                    Global Innovation Fund, Unreasonable Capital, Goodwell Investments, Adlevo Capital, Omidyar Network       0.00      0.00      0.00         1\n",
      "                                                                                                                                                                            Global Inovation Fund (GIF)       0.00      0.00      0.00         1\n",
      "                                                                                                                              Golden Palm Investments Holding Co., Olive Tree Ventures, Social Capital        0.00      0.00      0.00         1\n",
      "                                                                                                     Goldman Sachs, Proparco, Finnfund, Vostok Emerging Finance, Gemcorp Capital, LeapFrog Investments.       0.00      0.00      0.00         1\n",
      "                                                                                                                      Goodwell Investments,  Omidyar Network, Horizen Ventures, Marcos Vercelli-Forster       0.00      0.00      0.00         1\n",
      "                                                                                                                                                                       Goodwell Investments, Bombardier       0.00      0.00      0.00         1\n",
      "                                                                                                                                                                          Google Impact Challenge Kenya       0.00      0.00      0.00         3\n",
      "                                                                                                                                                                        Google Impact Challenge Nigeria       0.00      0.00      0.00         3\n",
      "                                                                                                                                                                           Google Launchpad Accelerator       0.00      0.00      0.00         5\n",
      "                                                                                                                                                                               Goonery Investment Group       0.00      0.00      0.00         1\n",
      "                                                                                                                                                                                   Gray Matters Capital       0.00      0.00      0.00         2\n",
      "                                                                                                                                                                GreenHouse Capital, CRE Venture Capital       0.00      0.00      0.00         1\n",
      "                                                                                                                                                                              GreenTec Capital Partners       0.00      0.00      0.00         6\n",
      "                                                                                                                                                                                 Greenlight Reinsurance       0.00      0.00      0.00         1\n",
      "                                                                                                                                                                     Greycroft partners & Plug and play       0.00      0.00      0.00         1\n",
      "                                                                                                                                                                               Ground Squirrel Ventures       0.00      0.00      0.00         5\n",
      "                                                                                                                                                                                                 HAVAIC       0.00      0.00      0.00         4\n",
      "                                                                                                                                                                                               HIMAngel       0.00      0.00      0.00         3\n",
      "                                                                                                                                                                                               HIMangel       0.00      0.00      0.00         3\n",
      "                                                                                                                                                                                   HIMangel, EdVentures       0.00      0.00      0.00         1\n",
      "                                                                                                                                                                                           Hazem Shisha       0.00      0.00      0.00         1\n",
      "                                                                                                                                                                                   Helhjärtad Finans AB       0.00      0.00      0.00         1\n",
      "                                                                                                                                                                                                    IBM       0.00      0.00      0.00         1\n",
      "                                                                                                                                                                                         IDF Capital SA       0.00      0.00      0.00         1\n",
      "                                                                                                                                                                              ISAI,  Seventure Partners       0.00      0.00      0.00         1\n",
      "                                                                                                                                                                                           Id4 ventures       0.00      0.00      0.00         3\n",
      "                                                                                                                                                                     Industrial Development Corporation       0.00      0.00      0.00         1\n",
      "                                                                                                                                                                                      Infotech Ventures       0.00      0.00      0.00         1\n",
      "                                                                                                                                                                                     Ingressive Capital       0.00      0.00      0.00         1\n",
      "                                                                                                                                                                                                 Injini       1.00      0.10      0.18        10\n",
      "                                                                                                                                                                                           Innoventures       0.00      0.00      0.00         1\n",
      "                                                                                                                                                                      International Finance Corporation       0.00      0.00      0.00         1\n",
      "                                                                                                        International Finance Corporation (IFC), 4Di, Omidyar Network, Quona Capital,  Patrick Pichette       0.00      0.00      0.00         1\n",
      "                                                                                                    International Finance Corporation, 1776 Ventures, Wamda Capital, TLcom Capital Partners, DOB Equity       0.00      0.00      0.00         1\n",
      "                                                                                                                            International Finance Corporation, Orange Digital Ventures, Social Capital        0.00      0.00      0.00         1\n",
      "                                                                                                                                International Finance Corporation, Y Combinator, TLcom Capital Partners       0.00      0.00      0.00         1\n",
      "                                                                                                                                                                                             Ion Equity       0.00      0.00      0.00         1\n",
      "                                                                                                                                                                              Iowa AgriTech Accelerator       0.00      0.00      0.00         1\n",
      "                                                                                                                                                                                     Itanna Accelerator       0.00      0.00      0.00         4\n",
      "                                                                                                                                                                           J.P. Morgan Asset Management       0.00      0.00      0.00         1\n",
      "                                                                                                                                                                                  Jabbar Internet Group       0.00      0.00      0.00         1\n",
      "                                                                                                                                                                                      Jacobs Foundation       0.00      0.00      0.00         2\n",
      "                                                                                                                                           Javelin Venture Partners,  Accion Venture Lab, Khosla Impact       0.00      0.00      0.00         1\n",
      "                                                                                                                   Jean and Steve Case, Jim Sorenson, TED, MKS Alternative Investments, Synergy Energy        0.00      0.00      0.00         1\n",
      "                                                                                                                                                                                        Jonathan Evrard       0.00      0.00      0.00         1\n",
      "                                                                                                                                                      Justin Drennan, Frederik Gerner, Bas Hochstenbach       0.00      0.00      0.00         1\n",
      "                                                                                                                                                                                                    KFW       0.00      0.00      0.00         1\n",
      "                                                                                                                                                                                                KFW DEG       0.00      0.00      0.00         1\n",
      "                                                                                                                                                                             KOSMOS Energy, MEST Africa       0.00      0.00      0.00         1\n",
      "                                                                                                                                                                                          Ka'resh Eswar       0.00      0.00      0.00         1\n",
      "                                                                                                                                                                                                 Kairos       0.00      0.00      0.00         1\n",
      "                                                                                                                                                                                 Kalon Venture Partners       0.00      0.00      0.00         1\n",
      "                                                                                                                                                 Kalon Venture Partners, BoostVC, Techstars, PowerHouse       0.00      0.00      0.00         1\n",
      "                                                                                                                                                                Kalon Venture Partners, Compass Capital       0.00      0.00      0.00         1\n",
      "                                                                                                                                                                        Kalon Venture Partners, Smollan       0.00      0.00      0.00         1\n",
      "                                                                                                                                                                                              Kamelizer       0.00      0.00      0.00         1\n",
      "                                                                                                                                                                                   Katapult Accelerator       0.00      0.00      0.00         6\n",
      "                                                                                                                               Katapult Accelerator, TRK Group, Danish Business Angels, Jesper Drescher       0.00      0.00      0.00         1\n",
      "                                                                                                                                                                                          Kevin Gaskell       0.00      0.00      0.00         2\n",
      "                                                                                                                                                                                      King and Bay West       0.00      0.00      0.00         1\n",
      "                                                                                                                                                                                            Kinnevik AB       0.00      0.00      0.00         1\n",
      "                                                                                                                                                                                    Kinnevik AB, Canal+       0.00      0.00      0.00         1\n",
      "                                                                                                                                                                                          Knife Capital       0.00      0.00      0.00         3\n",
      "                                                                                                                                                                                         Knife Capital        0.00      0.00      0.00         1\n",
      "                                                                                                                                                                                         Kuramo Capital       0.00      0.00      0.00         1\n",
      "                                                                                                                                                                                              LGT group       0.00      0.00      0.00         1\n",
      "                                                                                                                                                                                           LSE Generate       0.00      0.00      0.00         1\n",
      "                                                                                                                         LUN Partners Group, Goodwell Investments, FSD Africa, Equator Capital Partners       0.00      0.00      0.00         1\n",
      "                                                                                                                                                                                        Lateral Capital       0.00      0.00      0.00         3\n",
      "                                                                                                                                                   LeadPath Nigeria, Village Capital, Ventures Platform       0.00      0.00      0.00         1\n",
      "                                                                                                                                                                                   LeapFrog Investments       0.00      0.00      0.00         1\n",
      "                                                                                                                                                                                      Leapfrog Ventures       0.00      0.00      0.00         1\n",
      "                                                                                                                                                                                Leapfrog Ventures Japan       0.00      0.00      0.00         3\n",
      "                                                                                                                                                                Leapfrog Ventures, Monex Ventures, ANRI       0.00      0.00      0.00         1\n",
      "                                                                                                                                                                                        Lireas Holdings       0.00      0.00      0.00         1\n",
      "                                                                                                                                                       Lireas Holdings, 4Di Capital, Accion Venture Lab       0.00      0.00      0.00         1\n",
      "                                                                                                                                                                            LoftyInc Capital Management       0.00      0.00      0.00         1\n",
      "                                                                                                                                                                                            MEST Africa       0.00      0.00      0.00         8\n",
      "                                                                                                                                                                                          Manal Al Alem       0.00      0.00      0.00         1\n",
      "                                                                                                                           Massachusetts Institute of Technology Legatum Centre,  Mastercard Foundation       0.00      0.00      0.00         1\n",
      "                                                                                                                            Massachusetts Institute of Technology Legatum Centre, Mastercard Foundation       0.00      0.00      0.00         1\n",
      "                                                                                                                                                        Mastercard Foundation Fund for Rural Prosperity       0.00      0.00      0.00         3\n",
      "                                                                                                              Mbuyu Capital Partners, Maris Capital, International Finance Corporation (IFC), CDC Group       0.00      0.00      0.00         1\n",
      "                                                                                                                                                              Mennonite Economic Development Associates       0.00      0.00      0.00         1\n",
      "                                                                                                                                                                                     Merck Accelerator        0.00      0.00      0.00         1\n",
      "                                                                                                                              Mercure International, French Partners, Investisseurs & Partenaires (I&P)       0.00      0.00      0.00         1\n",
      "                                                                                                                                                                                          Microtraction       0.00      0.00      0.00         6\n",
      "                                                                                                                                                                       Microtraction, Ventures Platform       0.00      0.00      0.00         1\n",
      "                                                                                                                                               Middle East venture Partners, vodafone Ventures, Raed VC       0.00      0.00      0.00         1\n",
      "                                                                                                                                                           Millicom Systems, Rocket Internet, MTN Group       0.00      0.00      0.00         1\n",
      "                                                                                                                                                 Mohamed ben Saleh Ba Wazier, Salem ben Saleh Ba Wazier       0.00      0.00      0.00         1\n",
      "                                                                                                                                                                          Motorola Solutions Foundation       0.00      0.00      0.00         1\n",
      "                                                                                                                                                                                                Naspers       0.00      0.00      0.00         1\n",
      "                                                                                                                                                                                       Naspers Ventures       0.00      0.00      0.00         1\n",
      "                                                                                                                                                                          Naspers Ventures, Kinnevik AB       0.00      0.00      0.00         2\n",
      "                                                                                                                                                                                      Nedbank, AgFunder       0.00      0.00      0.00         1\n",
      "                                                                                                                                                          Nedbank, Sanari Capital, Convergence Partners       0.00      0.00      0.00         1\n",
      "                                                                                                                                                                                                 Nestle       0.00      0.00      0.00         1\n",
      "                                                                                                                                                                                 Net1 UEPS Technologies       0.00      0.00      0.00         1\n",
      "                                                                                        New Enterprise Associates, Balderton Capital Balderton Capital, TPG Growth, EchoVC Partners, Frontier Car Group       0.00      0.00      0.00         1\n",
      "                                                                                                                      Newid capital, Accion Venture Lab, HALLMANN HOLDING International Investment GmbH       0.00      0.00      0.00         1\n",
      "                                                                                                                                                                                       Newtown Partners       0.00      0.00      0.00         1\n",
      "                                                                                                                                                                                         Nexus Ventures       0.00      0.00      0.00         1\n",
      "                                                     North Base Media, LC Partners, Spice Fund, Zephyr Acorn, CRE Ventures, Singularity Investments, Spice Capital / OTEO Investment, Outlierz Ventures       0.00      0.00      0.00         1\n",
      "                                                                                                                         North Base Media, Lateral Capital, J.E. Berman Associates, CRE Venture Capital       0.00      0.00      0.00         1\n",
      "                                                                                                                                                Novastar Ventures, Steel Africa, Safaricom, Mercy Corps       0.00      0.00      0.00         1\n",
      "                                                                                                                                                                                           Numu Capital       0.00      0.00      0.00         1\n",
      "                                                                                                                                         OEL Venture Investments, Factor E Ventures, Accion Venture Lab       0.00      0.00      0.00         1\n",
      "                                                                                                                                                         OPIC - Overseas Private Investment Corporation       0.00      0.00      0.00         1\n",
      "                                                                                                                                                                                  Odey Asset Management       0.00      0.00      0.00         1\n",
      "                                                                                                                                                                                             OikiCredit       0.00      0.00      0.00         1\n",
      "                                                                                                                                                                               Oikocredit International       0.00      0.00      0.00         1\n",
      "                                                                                                                                                                                           Omar Barakat       0.00      0.00      0.00         1\n",
      "                                                                                                                                                                           Omar Salah, Nader El-Batrawi       0.00      0.00      0.00         1\n",
      "                                                                                                                                                                                        Omidyar Network       0.00      0.00      0.00         1\n",
      "                                                                                                                     Omidyar Network,  1776 Ventures, Wamda Capital, DOB Equity,  Blue Haven Initiative       0.00      0.00      0.00         1\n",
      "                                                                                                                      Omidyar Network, Goodwell Investments, Capricorn Investment Group, Adlevo Capital       0.00      0.00      0.00         1\n",
      "                                                                                                              Omidyar Network, Goodwell Investments, Capricorn Investment Group, Adlevo Capital, Acumen       0.00      0.00      0.00         1\n",
      "                                                                                         Omidyar Network, Tekton Ventures, Newid capital, Bamboo Capital Partners, Alitheia Capital, Accion Venture Lab       0.00      0.00      0.00         1\n",
      "                                                                                                                                                                                   Optimizer Foundation       0.00      0.00      0.00         2\n",
      "                                                                                                                                                                                                 Orange       0.00      0.00      0.00         1\n",
      "                                                                                                                                                                                      Osman Ahmed Osman       0.00      0.00      0.00         1\n",
      "                                                                                                                                                                                      Outlierz Ventures       0.00      0.00      0.00         2\n",
      "                                                                                                                                                                Overseas Private Investment Corporation       0.00      0.00      0.00         2\n",
      "                                                                                                                                            Oxfam’s Enterprise Development Programme, Novastar Ventures       0.00      0.00      0.00         1\n",
      "                                                                                                                                                                                     Pangea Accelerator       0.00      0.00      0.00         5\n",
      "                                                                                                                                                                                       Partech Partners       0.00      0.00      0.00         1\n",
      "                                                       Partech Partners, Orange Digital Ventures, Dutch Development Bank, Futuregrowth Asset Management, Quona Capital, Velocity Capital Private Equity       0.00      0.00      0.00         1\n",
      "                                                                                                                                                                                  PeaceTech Accelerator       0.00      0.00      0.00         2\n",
      "                                                                                                                                                                                          Pernod Ricard       0.00      0.00      0.00         1\n",
      "                                                                                                                                                                                      Pfizer Foundation       0.00      0.00      0.00         1\n",
      "                                                                                                                                                                                           Pitch@Palace       0.00      0.00      0.00         1\n",
      "                                                                                                                                                                                          Positrust LLC       0.00      0.00      0.00         1\n",
      "                                                                                                        Precursor Ventures, CRE Venture Capital, Pipeline Angels, Metis Investments, Christopher Isaacs       0.00      0.00      0.00         1\n",
      "                                                                                                                                                            Proparco, Investisseurs & Partenaires (I&P)       0.00      0.00      0.00         1\n",
      "                                                                                                                                                          Proparco, The MasterCard Foundation, FinnFund       0.00      0.00      0.00         1\n",
      "                                                                                                                                                                          Public Investment Corporation       0.00      0.00      0.00         1\n",
      "                                                                                                                                                                           Publicis Groupe, Faden Media       0.00      0.00      0.00         1\n",
      "                                                                                                                                                                               Q4 Investments (Pty) Ltd       0.00      0.00      0.00         1\n",
      "                                                                                                                                                                                          Quona Capital       0.00      0.00      0.00         1\n",
      "                                                                                                   Resolute Ventures, Social Capital, Locke Mountain Ventures, HOF Capital, Catalyst Fund, 500 Startups       0.00      0.00      0.00         1\n",
      "                                                                                                                                                                          Right Side Capital Management       0.00      0.00      0.00         1\n",
      "                                                                                                                                                   Right Side Capital Management, Amadeo Brenninkmeijer       0.00      0.00      0.00         1\n",
      "                                                                                                                                                                                            RippleWorks       0.00      0.00      0.00         1\n",
      "                                                                                                                                                                                           Rise Capital       0.00      0.00      0.00         1\n",
      "                                                                                                                                                                           Rocket Internet, Kinnevik AB       0.00      0.00      0.00         1\n",
      "                                                                                                                                Rocket Internet, MTN Group, Orange, Goldman Sachs, CDC Group, AXA Group       0.00      0.00      0.00         1\n",
      "                                                                                                                                                                           Royal Academy of Engineering       0.00      0.00      0.00         1\n",
      "                                                                                                                                                                                         SAB Foundation       0.00      0.00      0.00         2\n",
      "                                                                                                                                                                                                   SOSV       0.00      0.00      0.00         2\n",
      "                                                                                                                                                                                     SOSV, Carma Axlr8r       0.00      0.00      0.00         1\n",
      "                                                                                                                                                                                         SPHINX Capital       0.00      0.00      0.00         1\n",
      "                                                                                                            STV, Silicon Badia, BECO Capital, Vostock New Ventures, Crescent Enterprise Venture Capital       0.00      0.00      0.00         1\n",
      "                                                                                                                                                                                              Safaricom       0.00      0.00      0.00         1\n",
      "                                                                                                                                                            Sanari Capital, ASISA ESD Fund, 4Di Capital       0.00      0.00      0.00         1\n",
      "                                                                                                                                                                                          Savannah Fund       0.00      0.00      0.00         4\n",
      "                                                                                                                                                        Savannah Fund, Interswitch, CRE Venture Capital       0.00      0.00      0.00         1\n",
      "                                                                                                                                                  Savannah Fund, Opes Impact Fund, Data Collective DCVC       0.00      0.00      0.00         1\n",
      "                                                                                                                                                                                         Saviu Ventures       0.00      0.00      0.00         2\n",
      "                                                                                                                                                                                        Savour Ventures       0.00      0.00      0.00         1\n",
      "                                                                                                                                                                                              Seedstars       0.00      0.00      0.00         3\n",
      "                                                                                    Seedstars, Techstars, Zahra Nasser, George G, The Bill & Melinda Gates Foundation, Financial Sector Deepening Trust       0.00      0.00      0.00         1\n",
      "                                                                                                                                                           Seedstars, Zahra Nasser, GSMA, Patrick Munis       0.00      0.00      0.00         1\n",
      "                                                                                                                                                                                                   Seek       0.00      0.00      0.00         2\n",
      "                                                                                                                                                                                       Shenai Bridglall       0.00      0.00      0.00         1\n",
      "                                                                                                                                                                                  Shinnecok Partners LP       0.00      0.00      0.00         1\n",
      "                                                                                                                                                                                          Silicon Badia       0.00      0.00      0.00         1\n",
      "                                                                                                                                                                                Singularity Investments       0.00      0.00      0.00         1\n",
      "                                                                                                                                                                                        Skywell Capital       0.00      0.00      0.00         1\n",
      "                                                                                                                                                                                              Smartcall       0.00      0.00      0.00         1\n",
      "                                                                                                                                                                                                   Snap       0.00      0.00      0.00         1\n",
      "                                                                                                                                                                                         Sompo Holdings       0.00      0.00      0.00         1\n",
      "                                                                                                                                                                                                  Spark       0.00      0.00      0.00         1\n",
      "                                                                                                                                                                                       Spark, Hotels.ng       0.00      0.00      0.00         1\n",
      "                                                                                                                                                                                          SpeedUPAfrica       0.00      0.00      0.00         2\n",
      "                                                                                                                                                                                         SpeedUp Africa       0.00      0.00      0.00         1\n",
      "                                                                                                                                                                                     Spring Accelerator       0.00      0.00      0.00         1\n",
      "                                                                                                                                                                                         Start-Up Chile       0.00      0.00      0.00         1\n",
      "                                                                                                                                                                                        StartupBootcamp       0.00      0.00      0.00         1\n",
      "                                                                                                                                                                                        Startupbootcamp       0.00      0.00      0.00        12\n",
      "                                                                                                                                  Startupbootcamp Smart Transportation & Energy Berlin, Startupbootcamp       0.00      0.00      0.00         1\n",
      "                                                                                                                                                     Startupbootcamp, Startupbootcamp InsurTech London\n",
      "       0.00      0.00      0.00         1\n",
      "                                                           Stephens Investment Management, Pantera Capital, Future Perfect Ventures, Digital Currency Group, Colle Capital Partners, Blockchain Capital       0.00      0.00      0.00         1\n",
      "                  Story Ventures, Soma Capital, Pascal Levy-Garboua, Palm Drive Capital, Neon Capital, Michael Seibel, Lynett Capital, Jude Gomil, Endure Capital, Battery Ventures, Amino Capital, 4DX       0.00      0.00      0.00         1\n",
      "                                                                                                                                                           Stripe, Y Combinator, Tencent Holdings, Visa       0.00      0.00      0.00         1\n",
      "                                                                                                                                                                                        Summit Partners       0.00      0.00      0.00         1\n",
      "                                                                                             Summit Partners, Rocket Internet, Orange, Millicom Systems, MTN Group, Goldman Sachs, CDC Group, AXA Group       0.00      0.00      0.00         1\n",
      "                                                                                                                                                                                              SunFunder       0.00      0.00      0.00         1\n",
      "                                                                                                                                                                                        Sunray Ventures       0.00      0.00      0.00         1\n",
      "                                                                                                                          Susan Kimberlin, Steven Tamm, Safaricom, Cross Culture Ventures, Alpha Angels       0.00      0.00      0.00         1\n",
      "                                                                                                                                                                                        TBL Mirror Fund       0.00      0.00      0.00         1\n",
      "                                                                                                                                                                                                    TDB       0.00      0.00      0.00         1\n",
      "                                                                                                                                                                                                    TIA       0.00      0.00      0.00         1\n",
      "                                                                                                                                                                                TLcom Capital Partners        0.00      0.00      0.00         1\n",
      "                                                                        TLcom Capital Partners, Cross Culture Ventures, Alpha Angels, Social Capital, Safaricom, Kapor Capital, Golden Palm Investments       0.00      0.00      0.00         1\n",
      "                                                                                                                                              TLcom Capital Partners, International Finance Corporation       0.00      0.00      0.00         1\n",
      "                                                                                                                                                                          Tachyon by Consensys Ventures       0.00      0.00      0.00         1\n",
      "                                                                                                                                                                                        Tamkeen capital       0.00      0.00      0.00         1\n",
      "                                                                                                                                                                         TechCrunch Startup Battlefield       0.00      0.00      0.00         1\n",
      "                                                                                                                                                                  TechCrunch Startup Battlefield Africa       0.00      0.00      0.00         1\n",
      "                                                                                                                                                                           Technology Innovation Agency       0.00      0.00      0.00         2\n",
      "                                                                                                                                                                                              Techstars       0.00      0.00      0.00         4\n",
      "                                                                                                                                                         Techstars New York City Accelerator, Techstars       0.00      0.00      0.00         1\n",
      "                                                                                                                                                                              Tencent Holdings, Naspers       0.00      0.00      0.00         1\n",
      "                                                                                                                                                                                      The Carlyle Group       0.00      0.00      0.00         1\n",
      "                                                                                                                                                                              The MasterCard Foundation       0.00      0.00      0.00         1\n",
      "                                                                                                                                                                           The Noella Tinubu Foundation       0.00      0.00      0.00         1\n",
      "                                                                                                                                                     The Overseas Private Investment Corporation (OPIC)       0.00      0.00      0.00         1\n",
      "The Rise Fund, Velocity Capital Private Equity, First Ally Capital, Nyca Partners, Singularity Investments, Trans Sahara Investment Corporation, Western Technology Investment, X/Seed Capital Partners       0.00      0.00      0.00         1\n",
      "                                                                                                                 The Rise fund, Satya Capital, Endeavor Catalyst, Velocity Capital, Progression Africa.       0.00      0.00      0.00         1\n",
      "                                                                                                                                                                                         TheVentureCity       0.00      0.00      0.00         1\n",
      "                                                                                                                                                                                Tiger Global Management       0.00      0.00      0.00         2\n",
      "                                                                                                                                                     Tiger Global Management, Kinnevik AB, Rise Capital       0.00      0.00      0.00         1\n",
      "                                                                                                                                                                                             Tim Draper       0.00      0.00      0.00         1\n",
      "                                                                                                                                                                                Tony Elumelu Foundation       0.00      0.00      0.00         1\n",
      "                                                                                                                                                                                                  Trace       0.00      0.00      0.00         2\n",
      "                                                                                                                                                                                  Trend Forward Capital       0.00      0.00      0.00         1\n",
      "                                                                                                    True Ventures, Norrsken Foundation, Niklas Zennström, Matt Mullenweg, LocalGlobe, Bryan Meehan, ADV       0.00      0.00      0.00         1\n",
      "     Tyler Scriven,Techstars Atlanta in partnership with Cox Enterprises,Techstars,Social Capital, Michael Cohn, Josephine Group, Hallett Capital, FC Agro Allied SPV, Cox Enterprises, Christof Walter       0.00      0.00      0.00         1\n",
      "                                                                                                                                                      U.S. Agency for International Development (USAID)       0.00      0.00      0.00         1\n",
      "                                                                                                                                                                                  U.S. Embassy Ethiopia       0.00      0.00      0.00         1\n",
      "                                                                                                                                                                                          UGFS, Intilaq       0.00      0.00      0.00         1\n",
      "                                                                                                                                                                                               UN Women       0.00      0.00      0.00         1\n",
      "                                                                                                                                                                                 UNICEF Innovation Fund       0.00      0.00      0.00         1\n",
      "                                                                                                                                                                                            Undisclosed       0.16      1.00      0.28       118\n",
      "                                                                                                                                                                                           Undisclosed        0.00      0.00      0.00         2\n",
      "                                                                                                  United States African Development Foundation, Spring Accelerator, Levi Strauss & Co., Citi Foundation       0.00      0.00      0.00         1\n",
      "                                                                                                                                        University Ventures, Zephyr Acorn, Spike Ventures, Bodley Group       0.00      0.00      0.00         1\n",
      "                                                                                                                Urban Us, Synergy Growth, Omvestments, Invested Development, Gary Scheft, Cheryl Heller       0.00      0.00      0.00         1\n",
      "                                                                                                                                                                                                   VC4A       0.00      0.00      0.00         1\n",
      "                                                                                                                                                                                                 VFlock       0.00      0.00      0.00         1\n",
      "                                                                                                                                                                             VISA Everywhere Initiative       0.00      0.00      0.00         1\n",
      "                                                                                                                                                                        Velocity Capital Private Equity       0.00      0.00      0.00         1\n",
      "                                                                                                                                                                                   Venture Garden Group       0.00      0.00      0.00         1\n",
      "                                                                                                                                                                                      Ventures Platform       0.00      0.00      0.00         3\n",
      "                                                                                                                                                                                     VilCap Investments       0.00      0.00      0.00         1\n",
      "                                                                                                                                                                                          Villgro Kenya       0.00      0.00      0.00         5\n",
      "                                                                                                          Vinny Lingham, Newtown Partners, Africa Angels Network (AAN), Identity Development Fund (IDF)       0.00      0.00      0.00         1\n",
      "                                                                                                                                                                                  Virgin Group, Smollan       0.00      0.00      0.00         1\n",
      "                                                                                                                                                                             Visa Everywhere Initiative       0.00      0.00      0.00         2\n",
      "                                                                                                                                                                                        Vision Ventures       0.00      0.00      0.00         1\n",
      "                                                                                                                                                                        Vodafone Ventures, Cairo Angels       0.00      0.00      0.00         1\n",
      "                                                                                                                                       Vostok New Ventures, Piton Capital, Endure Capital, 500 Startups       0.00      0.00      0.00         1\n",
      "                                                                                                                                           Vumela Fund,  Vinny Lingham, Llew Claasen’s Newtown Partners       0.00      0.00      0.00         1\n",
      "                                                                                                                                    Vumela Fund, Omidyar Network, Forever Young Capital, Catapult Trust       0.00      0.00      0.00         1\n",
      "                                                                                                                                                            Wamda Capital, KISP Ventures, Raed Ventures       0.00      0.00      0.00         1\n",
      "                                                                                                                                                                                Wayra, LocalGlobe, ADV        0.00      0.00      0.00         1\n",
      "                                                                                                                                                                                        Wennovation Hub       0.00      0.00      0.00         2\n",
      "                                                                                                                                                                          Western Technology Investment       0.00      0.00      0.00         1\n",
      "                                                                                                                                                    Western Technology Investment,Africa Future Limited       0.00      0.00      0.00         1\n",
      "                                                                                                                                                                                   White Rhino Ventures       0.00      0.00      0.00         1\n",
      "                                                                                                                                                                                                  Wilco       0.00      0.00      0.00         1\n",
      "                                                           Will Sternlicht, Soma Capital, Social Capital, M & Y Growth Partners, Kima Ventures, Josh Buckley, Frances Xavier Helgesen, Comcast Ventures       0.00      0.00      0.00         1\n",
      "                                                                                                                                                                                          XSeed Capital       0.00      0.00      0.00         1\n",
      "                                                                                                               XSeed Capital, Nyca Partners, GreenHouse Capital, First Ally Capital, FinTech Collective       0.00      0.00      0.00         1\n",
      "                                                                                                                                                                                           Y Combinator       0.00      0.00      0.00        13\n",
      "                                                                                                                                                                                          Y Combinator        0.00      0.00      0.00         1\n",
      "                                                                                                                               Y Combinator, 500 Startups, Zeno Ventures, Vy Capital, Unis Venture Fund       0.00      0.00      0.00         1\n",
      "                                                                                                                                                                                           Yago Arbeloa       0.00      0.00      0.00         1\n",
      "                                                                                                                                                                         Yakout Sallam, Mahmoud Barakat       0.00      0.00      0.00         1\n",
      "                                                                                                                                                        Yale University, Merck and Equilateral Ventures       0.00      0.00      0.00         1\n",
      "                                                                                                                                                                           Yellowwood Partners, Hollard       0.00      0.00      0.00         1\n",
      "                                                                                                                                                                                            Yellowwoods       0.00      0.00      0.00         1\n",
      "                                                                                                                                                                         Yellowwoods, Hollard Insurance       0.00      0.00      0.00         1\n",
      "                                                                                                                                                                                          Yomi Martins        0.00      0.00      0.00         1\n",
      " Zeno Ventures, Y Combinator, Western Technology Investment, Vy Capital, Social Capital, Picus Capital, Michael Seibel, Lynett Capital, Golden Palm Investments, Gabriel Hammond, Friále, ACE & Company       0.00      0.00      0.00         1\n",
      "                                                                                                                                                                                                 Zeroth       0.00      0.00      0.00         1\n",
      "                                                                                                                                                                         Zillionize Angel, Y Combinator       0.00      0.00      0.00         1\n",
      "                                                                                                                                                                                   eVentues Africa Fund       0.00      0.00      0.00         1\n",
      "                                                                                                                                                                                                 nChain       0.00      0.00      0.00         1\n",
      "\n",
      "                                                                                                                                                                                               accuracy                           0.16       726\n",
      "                                                                                                                                                                                              macro avg       0.00      0.00      0.00       726\n",
      "                                                                                                                                                                                           weighted avg       0.04      0.16      0.05       726\n",
      "\n",
      "Training set score for SVM: 0.163912\n",
      "Testing  set score for SVM: 0.163912\n"
     ]
    },
    {
     "data": {
      "text/plain": [
       "<bound method BaseSearchCV.score of GridSearchCV(cv=5, estimator=SVC(),\n",
       "             param_grid=[{'C': [1, 10, 100, 1000], 'gamma': [0.001, 0.0001],\n",
       "                          'kernel': ['rbf']},\n",
       "                         {'C': [1, 10, 100, 1000], 'kernel': ['linear']}])>"
      ]
     },
     "execution_count": 17,
     "metadata": {},
     "output_type": "execute_result"
    }
   ],
   "source": [
    "# Making the Confusion Matrix\n",
    "#print(pd.crosstab(Y_test_label, Y_pred_label, rownames=['Actual investors'], colnames=['Predicted investors']))\n",
    "# print(confusion_matrix(Y_test_label,Y_pred_label))\n",
    "print(\"\\n\")\n",
    "print(classification_report(Y_test_label,Y_pred_label))\n",
    "\n",
    "print(\"Training set score for SVM: %f\" % final_model.score(X_train_scaled , Y_train))\n",
    "print(\"Testing  set score for SVM: %f\" % final_model.score(X_test_scaled  , Y_test ))\n",
    "\n",
    "svm_model.score"
   ]
  },
  {
   "cell_type": "code",
   "execution_count": 18,
   "id": "ce77a173-5b85-490a-8313-7b7d638646f7",
   "metadata": {},
   "outputs": [],
   "source": [
    "# cols = df_deals.columns"
   ]
  },
  {
   "cell_type": "code",
   "execution_count": 19,
   "id": "9d5013b1-ffa5-45d5-af8a-dd926e52fc76",
   "metadata": {
    "tags": []
   },
   "outputs": [],
   "source": [
    "# for cat_col in cols:\n",
    "#     print(f\"{cat_col}: {df_deals[cat_col].nunique()} uniqueness variable\")"
   ]
  },
  {
   "cell_type": "code",
   "execution_count": 20,
   "id": "48d7b8cf-ea55-4a8e-8500-1edd5b77ffbc",
   "metadata": {},
   "outputs": [],
   "source": [
    "# df_deals.shape"
   ]
  },
  {
   "cell_type": "code",
   "execution_count": null,
   "id": "97a2a1ee-ede1-4961-a43b-80fb862b77e1",
   "metadata": {
    "tags": []
   },
   "outputs": [],
   "source": [
    "# df_deals['Investor 2'].unique()"
   ]
  },
  {
   "cell_type": "code",
   "execution_count": null,
   "id": "257e5bcb-b7d5-496c-b4e9-b0e9d1e0b6f5",
   "metadata": {
    "tags": []
   },
   "outputs": [],
   "source": [
    "# df_deals.columns"
   ]
  },
  {
   "cell_type": "code",
   "execution_count": null,
   "id": "203263a8-cfdf-463f-b9af-61119e6b72f9",
   "metadata": {},
   "outputs": [],
   "source": [
    "# df_deals = df_deals.drop(['Investor 1','Cummulative Deals (Disclosed)','Cummulative Deals (Undisclosed)','Cummulative Amount','7_source','4_Stake','Investor 2', 'Investor 3',\n",
    "#        'Investor 4', 'Investor 5', 'Investor 6', 'Investor 7', 'Investor 8',\n",
    "#        'Investor 9', 'Investor 10', 'Investor 11', 'Investor 12','Investor 13','Investor 14','Investor 13.1','Investor 14.1','Investor 15.1','Investor 15','Duplication','Investor 1.1',\n",
    "#        'Investor 2.1', 'Investor 3.1', 'Investor 4.1', 'Investor 5.1',\n",
    "#        'Investor 6.1', 'Investor 7.1', 'Investor 8.1', 'Investor 9.1',\n",
    "#        'Investor 10.1', 'Investor 11.1', 'Investor 12.1'], axis=1)"
   ]
  },
  {
   "cell_type": "code",
   "execution_count": null,
   "id": "7205a45f-bc8a-4e3f-8829-77beabd31928",
   "metadata": {},
   "outputs": [],
   "source": [
    "# df_deals.head()"
   ]
  },
  {
   "cell_type": "code",
   "execution_count": null,
   "id": "7ac109b8-68db-4038-b0f0-413dffabb109",
   "metadata": {
    "tags": []
   },
   "outputs": [],
   "source": [
    "# df_deals[\"DA Classification_African Company (Yes = 0; No = 1)\"].value_counts()"
   ]
  },
  {
   "cell_type": "code",
   "execution_count": null,
   "id": "106b4d5d-a851-4cc3-a0a0-daf63fc8d12d",
   "metadata": {},
   "outputs": [],
   "source": [
    "# df_deals = df_deals.dropna()"
   ]
  },
  {
   "cell_type": "code",
   "execution_count": null,
   "id": "8c9830d6-04cb-428a-9cde-dc11768d7a36",
   "metadata": {},
   "outputs": [],
   "source": [
    "# df_deals.head()"
   ]
  },
  {
   "cell_type": "code",
   "execution_count": null,
   "id": "3eb80495-7ae7-41ff-a14a-75baeb930428",
   "metadata": {},
   "outputs": [],
   "source": [
    "# df_deals.shape"
   ]
  },
  {
   "cell_type": "code",
   "execution_count": null,
   "id": "74b42581-5f15-498a-934e-d31747c04bad",
   "metadata": {},
   "outputs": [],
   "source": [
    "# def get_year(dt):\n",
    "#     return dt.year\n",
    "\n",
    "# df_deals['year'] = df_deals['1_post_date'].map(get_year)\n",
    "# #df_deals"
   ]
  },
  {
   "cell_type": "code",
   "execution_count": null,
   "id": "99f21e58-8a74-4f65-8d7a-3038785b5ebb",
   "metadata": {},
   "outputs": [],
   "source": [
    "# df_deals"
   ]
  },
  {
   "cell_type": "code",
   "execution_count": null,
   "id": "5a2a88fe-d974-4f92-bb25-cba0d2f61d1d",
   "metadata": {},
   "outputs": [],
   "source": [
    "# df_deals = df_deals.drop(['Year','year','Country/Town'], axis=1)"
   ]
  },
  {
   "cell_type": "code",
   "execution_count": null,
   "id": "79686d6a-0e0a-4a64-a993-92ba70953898",
   "metadata": {},
   "outputs": [],
   "source": [
    "# df_deals"
   ]
  },
  {
   "cell_type": "code",
   "execution_count": null,
   "id": "06b8b7fb-23ac-4f08-a65a-9004853775be",
   "metadata": {},
   "outputs": [],
   "source": [
    "# #Dropping columns that the startup wont have prior\n",
    "# df_deals = df_deals.drop(['1_post_date','2_post_title','Check vs Companies','Industry, DA'], axis=1)"
   ]
  },
  {
   "cell_type": "code",
   "execution_count": null,
   "id": "901b94b6-9d60-43bd-bbbf-59c327158c5b",
   "metadata": {},
   "outputs": [],
   "source": [
    "# df_deals"
   ]
  },
  {
   "cell_type": "code",
   "execution_count": null,
   "id": "5faf4d21-a2c5-472d-82e3-c3f43179292b",
   "metadata": {},
   "outputs": [],
   "source": [
    "# df_deals = df_deals.drop(['duplicated_conc'], axis=1)"
   ]
  },
  {
   "cell_type": "code",
   "execution_count": null,
   "id": "454a3500-0f75-497e-9266-d0268a1c3556",
   "metadata": {},
   "outputs": [],
   "source": [
    "# df_deals['5_funding_round'].unique()"
   ]
  },
  {
   "cell_type": "code",
   "execution_count": null,
   "id": "2c2d9092-7240-48cc-a3ec-f51f03519ad9",
   "metadata": {},
   "outputs": [],
   "source": [
    "# !pip install category_encoders"
   ]
  },
  {
   "cell_type": "code",
   "execution_count": null,
   "id": "49191374-9d2e-452e-a742-879a1a348a89",
   "metadata": {},
   "outputs": [],
   "source": [
    "# from category_encoders import OrdinalEncoder"
   ]
  },
  {
   "cell_type": "code",
   "execution_count": null,
   "id": "d55effda-d254-492c-b038-29fc9220cdfb",
   "metadata": {},
   "outputs": [],
   "source": [
    "# df_deals['main_sector'].unique()"
   ]
  },
  {
   "cell_type": "code",
   "execution_count": null,
   "id": "4105a9e8-5136-4322-b0bf-9a895aca7873",
   "metadata": {},
   "outputs": [],
   "source": [
    "# df_deals['main_sector'] = df_deals['main_sector'].apply(lambda x: x.lower())\n",
    "# df_deals['main_sector'].unique()"
   ]
  },
  {
   "cell_type": "code",
   "execution_count": null,
   "id": "f8f79ba9-e1a8-48f8-abbc-46096dbf7786",
   "metadata": {},
   "outputs": [],
   "source": [
    "# def main_sector(sector):\n",
    "#     if 'recruitment' in sector.lower():\n",
    "#         return 'recruitment, human resource'\n",
    "#     elif 'media/ entertainment' in sector.lower():\n",
    "#         return 'media and entertainment'\n",
    "#     elif 'media & entertainment' in sector.lower():\n",
    "#         return 'media and entertainment'\n",
    "#     elif 'solar power' in sector.lower():\n",
    "#         return 'solar energy, energy and resources'\n",
    "#     elif 'real estate' in sector.lower():\n",
    "#         return 'real estate and construction'\n",
    "#     elif 'resource & energy' in sector.lower():\n",
    "#         return 'solar energy, energy and resources'\n",
    "#     elif 'telecommunications' in sector.lower():\n",
    "#         return 'utilities and telecommunication services'\n",
    "#     elif 'renewable energy' in sector.lower():\n",
    "#         return 'renewables & environment'\n",
    "#     elif 'information technology' in sector.lower():\n",
    "#         return 'other technologies & information technology'\n",
    "#     else:\n",
    "#         return sector"
   ]
  },
  {
   "cell_type": "code",
   "execution_count": null,
   "id": "a4f79a82-2255-4a3d-a792-718200b47777",
   "metadata": {},
   "outputs": [],
   "source": [
    "# #applying our function to eliminate duplicates\n",
    "# df_deals['main_sector'] = df_deals['main_sector'].apply(main_sector)"
   ]
  },
  {
   "cell_type": "code",
   "execution_count": null,
   "id": "16f527b6-6d69-4916-8970-8d25c5c8a672",
   "metadata": {},
   "outputs": [],
   "source": [
    "# df_deals['main_sector'].unique()"
   ]
  },
  {
   "cell_type": "code",
   "execution_count": null,
   "id": "30f00f5d-c7a7-4058-8120-c0b428756e96",
   "metadata": {},
   "outputs": [],
   "source": [
    "# mapping_ms = [{'col': 'main_sector', 'mapping': {'financial services': 1, 'recruitment, human resource': 2, 'education': 3,\n",
    "#        'media and entertainment': 4, 'e-commerce & retail': 5,\n",
    "#        'other technologies & information technology': 6,\n",
    "#        'real estate and construction': 7,\n",
    "#        'commercial & professional services': 8, 'software': 9,\n",
    "#        'transport & logistics': 10, 'automotive': 11, 'healthcare & pharma': 12,\n",
    "#        'utilities and telecommunication services': 13, 'agriculture': 14,\n",
    "#        'travel & leisure': 15, 'social network': 16, 'security': 17,\n",
    "#        'renewables & environment': 18, 'emerging technologies': 19, 'saas': 20,\n",
    "#        'marketing': 21, 'solar energy, energy and resources': 22, 'robotics': 23,\n",
    "#        'travel and leisure': 24}}]\n",
    "# OrdinalEncoder(cols=['main_sector'], mapping=mapping_ms).fit(df_deals).transform(df_deals)\n",
    "\n",
    "# mapping_ms = {'financial services': 1, 'recruitment, human resource': 2, 'education': 3,\n",
    "#        'media and entertainment': 4, 'e-commerce & retail': 5,\n",
    "#        'other technologies & information technology': 6,\n",
    "#        'real estate and construction': 7,\n",
    "#        'commercial & professional services': 8, 'software': 9,\n",
    "#        'transport & logistics': 10, 'automotive': 11, 'healthcare & pharma': 12,\n",
    "#        'utilities and telecommunication services': 13, 'agriculture': 14,\n",
    "#        'travel & leisure': 15, 'social network': 16, 'security': 17,\n",
    "#        'renewables & environment': 18, 'emerging technologies': 19, 'saas': 20,\n",
    "#        'marketing': 21, 'solar energy, energy and resources': 22, 'robotics': 23,\n",
    "#        'travel and leisure': 24}\n",
    "\n",
    "# df_deals['main_sector_encoded'] = df_deals['main_sector'].apply(lambda x: mapping_ms[x])"
   ]
  },
  {
   "cell_type": "code",
   "execution_count": null,
   "id": "c4c96fc7-0f8b-4127-8e8d-7395934be43c",
   "metadata": {},
   "outputs": [],
   "source": [
    "# df_deals.head()"
   ]
  },
  {
   "cell_type": "code",
   "execution_count": null,
   "id": "8e4a67cb-066e-4679-a56a-fa8b3e67d084",
   "metadata": {},
   "outputs": [],
   "source": [
    "# mapping_sr = [{'col': '5_funding_round', 'mapping': {'Seed': 1, 'Grant': 2, 'Series A': 3, 'Angel': 4, 'Debt Financing': 5, 'Series B': 6,\n",
    "#        'Series D': 7, 'Series C': 8, 'Private Equity': 9, 'Pre-Series B': 10,\n",
    "#        'Convertible Note': 11, 'Pre-Seed': 12, 'Venture Round': 13, 'Series E': 14,\n",
    "#        'Undisclosed': 15, 'Crowdfunding': 16, 'Corporate Venture': 17,\n",
    "#        'Corporate Round': 18, 'Series A II': 19, 'CrowdFunding': 20}}]\n",
    "# OrdinalEncoder(cols=['5_funding_round'], mapping=mapping_sr).fit(df_deals).transform(df_deals)\n"
   ]
  },
  {
   "cell_type": "code",
   "execution_count": null,
   "id": "b868f4d0-a2d2-4bac-88dd-81ebd389c944",
   "metadata": {},
   "outputs": [],
   "source": [
    "# mapping_sr = {'Seed': 1, 'Grant': 2, 'Series A': 3, 'Angel': 4, 'Debt Financing': 5, 'Series B': 6,\n",
    "#        'Series D': 7, 'Series C': 8, 'Private Equity': 9, 'Pre-Series B': 10,\n",
    "#        'Convertible Note': 11, 'Pre-Seed': 12, 'Venture Round': 13, 'Series E': 14,\n",
    "#        'Undisclosed': 15, 'Crowdfunding': 16, 'Corporate Venture': 17,\n",
    "#        'Corporate Round': 18, 'Series A II': 19, 'CrowdFunding': 20}\n",
    "\n",
    "# df_deals['funding_round_encoded'] = df_deals['5_funding_round'].apply(lambda x: mapping_sr[x])"
   ]
  },
  {
   "cell_type": "code",
   "execution_count": null,
   "id": "6a10be18-96f0-4eff-95fd-2b674f93689f",
   "metadata": {},
   "outputs": [],
   "source": [
    "# df_deals.head()"
   ]
  },
  {
   "cell_type": "code",
   "execution_count": null,
   "id": "ce7764af-347c-4ea9-8a82-97826e7cb660",
   "metadata": {
    "tags": []
   },
   "outputs": [],
   "source": [
    "# df_deals['Category'].unique()"
   ]
  },
  {
   "cell_type": "code",
   "execution_count": null,
   "id": "c49c4c25-d179-433e-8822-cc4f7b63ffe1",
   "metadata": {},
   "outputs": [],
   "source": [
    "# df_deals.head()"
   ]
  },
  {
   "cell_type": "code",
   "execution_count": null,
   "id": "54748fef-3209-4607-92d0-6132263d2543",
   "metadata": {},
   "outputs": [],
   "source": [
    "# Load and preprocess the data\n",
    "data = df_deals\n",
    "X = data.iloc[:, 0:2].values\n",
    "# Y_train_label = train.Activity.values.astype(object)\n",
    "# investor_names = data.columns[10:].tolist()\n",
    "y = data.iloc[:, 2:].values"
   ]
  },
  {
   "cell_type": "code",
   "execution_count": null,
   "id": "dbd2aa9a-e48f-4c59-96e2-df5ed11ec422",
   "metadata": {},
   "outputs": [],
   "source": [
    "data = data.rename(columns={' Disclosed': \"Disclosed\"})"
   ]
  },
  {
   "cell_type": "code",
   "execution_count": null,
   "id": "f66694f1-7735-466b-bafb-46c0889b4813",
   "metadata": {},
   "outputs": [],
   "source": [
    "mode_value = data['6_investors'].mode()[0]\n"
   ]
  },
  {
   "cell_type": "code",
   "execution_count": null,
   "id": "fb224390-0c48-4197-9aaa-98e18e9263c7",
   "metadata": {},
   "outputs": [],
   "source": [
    "# data['6_investors'].fillna(mode_value, inplace=True)\n",
    "# data['6_investors'] = data['6_investors'].replace('Undisclosed', mode_value, inplace=True)\n",
    "\n",
    "data\n"
   ]
  },
  {
   "cell_type": "code",
   "execution_count": null,
   "id": "1c427660-03a8-4e34-b75d-a9ab3f6c71e9",
   "metadata": {},
   "outputs": [],
   "source": [
    "# the funding total column is read as a object so clearning it up so that we can use it as a numerical column\n",
    "data['5_funding_round']=data['5_funding_round'].str.replace(',','') # removing commas from funding_total_usd column\n",
    "data['5_funding_round']=data['5_funding_round'].str.replace(' ','')#removing extra space from funding_total_usd column\n",
    "# df['funding_total_usd']=df['funding_total_usd'].str.replace('-','0')\n",
    "#removing - from funding_total_usd column and replacing with 0"
   ]
  },
  {
   "cell_type": "code",
   "execution_count": null,
   "id": "a4885f83-dbde-4f42-8a3b-64fb8d058891",
   "metadata": {},
   "outputs": [],
   "source": [
    "data['5_funding_round'].unique()"
   ]
  },
  {
   "cell_type": "code",
   "execution_count": null,
   "id": "0d332d5e-af42-46fc-8cb7-8aabb9059224",
   "metadata": {},
   "outputs": [],
   "source": [
    "data = data.drop(['Category','funding round, DA'], axis=1)"
   ]
  },
  {
   "cell_type": "code",
   "execution_count": null,
   "id": "ea565aea-dd13-4ac7-adf6-635959ddb321",
   "metadata": {},
   "outputs": [],
   "source": [
    "# data"
   ]
  },
  {
   "cell_type": "code",
   "execution_count": null,
   "id": "87f96cac-5157-4b67-abc9-1c923e51b14f",
   "metadata": {},
   "outputs": [],
   "source": [
    "data['5_funding_round'].unique()"
   ]
  },
  {
   "cell_type": "code",
   "execution_count": null,
   "id": "40989af1-2c6c-41c9-90a4-cac5009f49d0",
   "metadata": {},
   "outputs": [],
   "source": [
    "# data['cat_funding_round'] = data['5_funding_round'].replace(['Seed', 'Grant', 'SeriesA', 'Angel', 'DebtFinancing', 'SeriesB',\n",
    "#        'SeriesD', 'SeriesC', 'PrivateEquity', 'Pre-SeriesB',\n",
    "#        'ConvertibleNote', 'Pre-Seed', 'VentureRound', 'SeriesE',\n",
    "#        'Undisclosed', 'Crowdfunding', 'CorporateVenture',\n",
    "#        'CorporateRound', 'SeriesAII', 'CrowdFunding'], [0, 1, 2,3,4,5,6,7,8,9,10,11,12,13,14,15,16,17,18,19])"
   ]
  },
  {
   "cell_type": "code",
   "execution_count": null,
   "id": "8336cce2-f2de-4c3b-8b61-71318ea04ac3",
   "metadata": {},
   "outputs": [],
   "source": [
    "data"
   ]
  },
  {
   "cell_type": "code",
   "execution_count": null,
   "id": "62373163-b796-4bbe-adb5-f18a3c2b2701",
   "metadata": {},
   "outputs": [],
   "source": [
    "# creating instance of labelencoder\n",
    "labelencoder = LabelEncoder()\n",
    "#using label encoder for these two columns as there is a lot of variables\n",
    "data['cat_Country'] = labelencoder.fit_transform(data['Country(HQ)']) # using label encoder on continent\n",
    "# data['cat_6_investors'] = labelencoder.fit_transform(data['6_investors']) # using label encoder on industry group\n",
    "# data['cat_main_sector'] = labelencoder.fit_transform(data['main_sector'])"
   ]
  },
  {
   "cell_type": "markdown",
   "id": "bd71eef5-8215-48bf-bd17-6bbe21bf3856",
   "metadata": {},
   "source": [
    "### prepare data for modelling"
   ]
  },
  {
   "cell_type": "code",
   "execution_count": null,
   "id": "b574c8cc-6d41-4532-9b2d-bc1f4175a83b",
   "metadata": {},
   "outputs": [],
   "source": [
    "data.columns"
   ]
  },
  {
   "cell_type": "code",
   "execution_count": null,
   "id": "d9dba015-3659-4e5e-814c-cb717e885a40",
   "metadata": {},
   "outputs": [],
   "source": [
    "data1 = data[['Deals Information, Level of Completeness', 'Disclosed ',\n",
    "       'Founded', 'Total  Disclosed Funding',\n",
    "       'DA Classification_African Company (Yes = 0; No = 1)', 'Month',\n",
    "       'Quarter', 'Half', 'Number of Investors', 'main_sector_encoded',\n",
    "       'funding_round_encoded', 'cat_Country']]"
   ]
  },
  {
   "cell_type": "code",
   "execution_count": null,
   "id": "632f6b96-c583-4b64-bf4e-601c127a7953",
   "metadata": {},
   "outputs": [],
   "source": [
    "def get_data_types(df):\n",
    "    \"\"\"\n",
    "    Get the data types of all columns in a dataframe.\n",
    "\n",
    "    Args:\n",
    "        df (pandas.DataFrame): The dataframe to retrieve data types from.\n",
    "\n",
    "    Returns:\n",
    "        dict: A dictionary mapping column names to their respective data types.\n",
    "    \"\"\"\n",
    "    data_types = df.dtypes.to_dict()\n",
    "    return data_types"
   ]
  },
  {
   "cell_type": "code",
   "execution_count": null,
   "id": "40b40dca-316d-4edd-bc0c-7b6a48240455",
   "metadata": {},
   "outputs": [],
   "source": [
    "data_types = get_data_types(data1)\n",
    "\n",
    "# Print the data types\n",
    "print(data_types)"
   ]
  },
  {
   "cell_type": "markdown",
   "id": "f1eb8b0d-d2f7-4fe8-8c80-e0be210689b1",
   "metadata": {},
   "source": [
    "#### Statitics and correlation"
   ]
  },
  {
   "cell_type": "code",
   "execution_count": null,
   "id": "35c3d889-102a-4dd9-93d9-3b4c3f7c5117",
   "metadata": {},
   "outputs": [],
   "source": [
    "#creating correlation matrix\n",
    "colormap = plt.cm.viridis\n",
    "plt.figure(figsize = (35, 35))\n",
    "plt.title('Pearson Correlation of features', y = 1.05, size = 15)\n",
    "matrix = np.triu(data1.corr())\n",
    "sns.heatmap(data1.astype(float).corr(), linewidth = 0.1, vmax = 1.0, square =True, cmap=colormap, linecolor = 'white', annot=True, mask = matrix)\n"
   ]
  },
  {
   "cell_type": "code",
   "execution_count": null,
   "id": "4c81a7fa-2d64-4e58-8f3f-eecd8a0ca115",
   "metadata": {},
   "outputs": [],
   "source": [
    "data = data.drop(['3_amount','5_funding_round','Country(HQ)','main_sector'], axis=1)"
   ]
  },
  {
   "cell_type": "code",
   "execution_count": null,
   "id": "0f4df9fc-c4e9-432e-af3a-b34b80367158",
   "metadata": {},
   "outputs": [],
   "source": [
    "data"
   ]
  },
  {
   "cell_type": "code",
   "execution_count": null,
   "id": "04bc797a-a1d4-4add-b711-94e7389d3638",
   "metadata": {},
   "outputs": [],
   "source": [
    "Y = data['6_investors'] #setting Y variable\n",
    "X = data.drop('6_investors', axis = 1) #dropping status and setting features\n",
    "X_train, X_test, Y_train, Y_test = train_test_split(X, Y, test_size = 0.2, random_state = 42)#test and train dataset\n",
    "Y_train_label = Y_train.values.astype(object)\n",
    "Y_test_label = Y_test.values.astype(object)\n",
    "# Y_train.shape\n",
    "# X_test.shape\n",
    "# Y_test.shape\n",
    "X_test.head()\n",
    "Y_train_label"
   ]
  },
  {
   "cell_type": "code",
   "execution_count": null,
   "id": "28cd6687-93a8-4e88-82a5-dfcccc9b4ea4",
   "metadata": {},
   "outputs": [],
   "source": [
    "#checking size of each dataset\n",
    "# print('Shape of X_train=>',X_train.shape)\n",
    "# print('Shape of X_test=>',X_test.shape)\n",
    "# print('Shape of Y_train=>',Y_train.shape)\n",
    "# print('Shape of Y_test=>',Y_test.shape)"
   ]
  },
  {
   "cell_type": "code",
   "execution_count": null,
   "id": "d7965335-34c8-4e22-b9ab-0b2ece6ed678",
   "metadata": {},
   "outputs": [],
   "source": [
    "# Transforming non numerical labels into numerical labels\n",
    "# from sklearn import preprocessing\n",
    "# encoder = preprocessing.LabelEncoder()\n",
    "\n",
    "# # encoding train labels \n",
    "# encoder.fit(Y_train_label)\n",
    "# Y_train = encoder.transform(Y_train_label)\n",
    "\n",
    "# # encoding test labels \n",
    "# encoder.fit(Y_test_label)\n",
    "# Y_test = encoder.transform(Y_test_label)\n",
    "\n",
    "# Y_train.shape"
   ]
  },
  {
   "cell_type": "code",
   "execution_count": null,
   "id": "f939ed34-3e78-4d70-9c94-0fed5d82d804",
   "metadata": {},
   "outputs": [],
   "source": [
    "# Scaling the Train and Test feature set \n",
    "# from sklearn.preprocessing import StandardScaler\n",
    "# scaler = StandardScaler()\n",
    "# X_train_scaled = scaler.fit_transform(X_train)\n",
    "# X_test_scaled = scaler.transform(X_test)\n",
    "# # X_train.shape\n",
    "# # X_train.shape\n",
    "# X_test_scaled.shape"
   ]
  },
  {
   "cell_type": "code",
   "execution_count": null,
   "id": "a13ec8fb-b82d-41aa-a0c9-5511cd7d0388",
   "metadata": {},
   "outputs": [],
   "source": [
    "#Libraries to Build Ensemble Model : Random Forest Classifier \n",
    "# # Create the parameter grid based on the results of random search \n",
    "# params_grid = [{'kernel': ['rbf'], 'gamma': [1e-3, 1e-4],\n",
    "#                      'C': [1, 10, 100, 1000]},\n",
    "#                     {'kernel': ['linear'], 'C': [1, 10, 100, 1000]}]"
   ]
  },
  {
   "cell_type": "code",
   "execution_count": null,
   "id": "530778d6-1321-4ccd-a712-230a35300c88",
   "metadata": {},
   "outputs": [],
   "source": [
    "# from sklearn.svm import SVC"
   ]
  },
  {
   "cell_type": "code",
   "execution_count": null,
   "id": "5f7f9c37-6468-41ec-ac51-0a4960e274a8",
   "metadata": {},
   "outputs": [],
   "source": [
    "# # Performing CV to tune parameters for best SVM fit \n",
    "# svm_model = GridSearchCV(SVC(), params_grid, cv=5)\n",
    "# svm_model.fit(X_train_scaled, Y_train)\n",
    "# # Y_train.shape"
   ]
  },
  {
   "cell_type": "markdown",
   "id": "47e8bef6-f39a-4274-ad3c-f347b5da28a3",
   "metadata": {},
   "source": [
    "#### Confusion Matrix and Accuracy Score"
   ]
  },
  {
   "cell_type": "code",
   "execution_count": null,
   "id": "f0402581-094d-4776-b3e3-78bcb9ce2fe9",
   "metadata": {},
   "outputs": [],
   "source": [
    "# # View the accuracy score\n",
    "# print('Best score for training data:', svm_model.best_score_,\"\\n\") \n",
    "\n",
    "# # View the best parameters for the model found using grid search\n",
    "# print('Best C:',svm_model.best_estimator_.C,\"\\n\") \n",
    "# print('Best Kernel:',svm_model.best_estimator_.kernel,\"\\n\")\n",
    "# print('Best Gamma:',svm_model.best_estimator_.gamma,\"\\n\")\n",
    "\n",
    "# final_model = svm_model.best_estimator_\n",
    "# Y_pred = final_model.predict(X_test_scaled)\n",
    "# # Y_pred\n",
    "# Y_pred_label = list(encoder.inverse_transform(Y_pred))"
   ]
  },
  {
   "cell_type": "code",
   "execution_count": null,
   "id": "f60f640c-0323-43ab-86b3-9d5147809f5f",
   "metadata": {},
   "outputs": [],
   "source": [
    "# Making the Confusion Matrix\n",
    "#print(pd.crosstab(Y_test_label, Y_pred_label, rownames=['Actual Activity'], colnames=['Predicted Activity']))\n",
    "# print(confusion_matrix(Y_test_label,Y_pred_label))\n",
    "# print(\"\\n\")\n",
    "# print(classification_report(Y_test_label,Y_pred_label))\n",
    "\n",
    "# print(\"Training set score for SVM: %f\" % final_model.score(X_train_scaled , Y_train))\n",
    "# print(\"Testing  set score for SVM: %f\" % final_model.score(X_test_scaled  , Y_test ))\n",
    "\n",
    "# svm_model.score"
   ]
  },
  {
   "cell_type": "code",
   "execution_count": null,
   "id": "0d3179af-8cb0-4a88-9157-497cfea6557f",
   "metadata": {},
   "outputs": [],
   "source": [
    "# names_of_predictors = list(X_train.columns.values)"
   ]
  },
  {
   "cell_type": "code",
   "execution_count": null,
   "id": "8f999cf9-a277-4176-8473-3c06aa09d59e",
   "metadata": {
    "tags": []
   },
   "outputs": [],
   "source": [
    "# names_of_predictors"
   ]
  },
  {
   "cell_type": "code",
   "execution_count": null,
   "id": "9bfefbec-cfa9-4fc6-bdbd-1fd55cd5a92d",
   "metadata": {},
   "outputs": [],
   "source": [
    "# Scaling the Train and Test feature set \n",
    "# from sklearn.preprocessing import StandardScaler\n",
    "# scaler = StandardScaler()\n",
    "# X_train_scaled = scaler.fit_transform(X_train)\n",
    "# X_test_scaled = scaler.transform(X_test)"
   ]
  },
  {
   "cell_type": "markdown",
   "id": "be2179c4-7d4c-4f1d-b764-bc9c09d51feb",
   "metadata": {},
   "source": [
    "##### Hyperparameter tuning using grid search and cross validation"
   ]
  },
  {
   "cell_type": "code",
   "execution_count": null,
   "id": "7e655c54-20a4-4029-9246-3299a64e1aed",
   "metadata": {},
   "outputs": [],
   "source": [
    "#Libraries to Build Ensemble Model : Random Forest Classifier \n",
    "# Create the parameter grid based on the results of random search \n",
    "# params_grid = [{'kernel': ['rbf'], 'gamma': [1e-3, 1e-4],\n",
    "#                      'C': [1, 10, 100, 1000]},\n",
    "#                     {'kernel': ['linear'], 'C': [1, 10, 100, 1000]}]"
   ]
  },
  {
   "cell_type": "markdown",
   "id": "e6c9206e-eb0c-4ab6-ac5e-30af8117da31",
   "metadata": {},
   "source": [
    "#### Training SVM model using radial kernel"
   ]
  },
  {
   "cell_type": "code",
   "execution_count": null,
   "id": "ce9909bd-2f02-49e5-bde0-676fe6da433c",
   "metadata": {},
   "outputs": [],
   "source": [
    "# from sklearn.utils import shuffle\n",
    "# from sklearn.svm import SVC\n",
    "# from sklearn.metrics import confusion_matrix,classification_report\n",
    "# from sklearn.model_selection import cross_val_score, GridSearchCV\n",
    "# import numpy as np"
   ]
  },
  {
   "cell_type": "code",
   "execution_count": null,
   "id": "1256ef37-1ef1-452e-8bf3-a210bcaff49d",
   "metadata": {},
   "outputs": [],
   "source": [
    "# Y_train"
   ]
  },
  {
   "cell_type": "code",
   "execution_count": null,
   "id": "d51819b9-81da-4b7d-bc5e-1276a6300af4",
   "metadata": {},
   "outputs": [],
   "source": [
    "# Y_train.head()\n",
    "\n",
    "# x = np.asfarray(Y_train)\n",
    "# X_train"
   ]
  },
  {
   "cell_type": "code",
   "execution_count": null,
   "id": "6a172356-16b7-4b79-b601-c0b7f4b9f2fe",
   "metadata": {},
   "outputs": [],
   "source": [
    "# Performing CV to tune parameters for best SVM fit \n",
    "# svm_model = GridSearchCV(SVC(), params_grid, cv=5)\n",
    "# svm_model.fit(X_train_scaled, Y_train)"
   ]
  },
  {
   "cell_type": "code",
   "execution_count": null,
   "id": "dcd59998-41eb-4054-9cb1-88e77175afec",
   "metadata": {},
   "outputs": [],
   "source": []
  }
 ],
 "metadata": {
  "kernelspec": {
   "display_name": "Python 3 (ipykernel)",
   "language": "python",
   "name": "python3"
  },
  "language_info": {
   "codemirror_mode": {
    "name": "ipython",
    "version": 3
   },
   "file_extension": ".py",
   "mimetype": "text/x-python",
   "name": "python",
   "nbconvert_exporter": "python",
   "pygments_lexer": "ipython3",
   "version": "3.10.10"
  }
 },
 "nbformat": 4,
 "nbformat_minor": 5
}
