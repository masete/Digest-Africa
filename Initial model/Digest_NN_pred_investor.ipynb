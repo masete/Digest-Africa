{
 "cells": [
  {
   "cell_type": "code",
   "execution_count": 1,
   "id": "41b24e7f-1637-4a29-a362-cfa0e3b13c80",
   "metadata": {},
   "outputs": [
    {
     "name": "stderr",
     "output_type": "stream",
     "text": [
      "2023-04-06 14:43:30.529959: I tensorflow/core/platform/cpu_feature_guard.cc:193] This TensorFlow binary is optimized with oneAPI Deep Neural Network Library (oneDNN) to use the following CPU instructions in performance-critical operations:  AVX2 FMA\n",
      "To enable them in other operations, rebuild TensorFlow with the appropriate compiler flags.\n",
      "2023-04-06 14:43:36.480117: W tensorflow/compiler/xla/stream_executor/platform/default/dso_loader.cc:64] Could not load dynamic library 'libcudart.so.11.0'; dlerror: libcudart.so.11.0: cannot open shared object file: No such file or directory\n",
      "2023-04-06 14:43:36.480223: I tensorflow/compiler/xla/stream_executor/cuda/cudart_stub.cc:29] Ignore above cudart dlerror if you do not have a GPU set up on your machine.\n",
      "2023-04-06 14:43:52.110174: W tensorflow/compiler/xla/stream_executor/platform/default/dso_loader.cc:64] Could not load dynamic library 'libnvinfer.so.7'; dlerror: libnvinfer.so.7: cannot open shared object file: No such file or directory\n",
      "2023-04-06 14:43:52.116136: W tensorflow/compiler/xla/stream_executor/platform/default/dso_loader.cc:64] Could not load dynamic library 'libnvinfer_plugin.so.7'; dlerror: libnvinfer_plugin.so.7: cannot open shared object file: No such file or directory\n",
      "2023-04-06 14:43:52.116169: W tensorflow/compiler/tf2tensorrt/utils/py_utils.cc:38] TF-TRT Warning: Cannot dlopen some TensorRT libraries. If you would like to use Nvidia GPU with TensorRT, please make sure the missing libraries mentioned above are installed properly.\n"
     ]
    }
   ],
   "source": [
    "import pandas as pd\n",
    "import numpy as np\n",
    "# import sklearn as sk\n",
    "from matplotlib import pyplot as plt\n",
    "import seaborn as sn\n",
    "import seaborn as sns\n",
    "from matplotlib import pyplot\n",
    "from keras.models import Sequential\n",
    "from keras.layers import Dense\n",
    "# from sklearn.linear_model import LinearRegression\n",
    "# from sklearn.linear_model import LogisticRegression\n",
    "# from sklearn.tree import DecisionTreeClassifier\n",
    "from sklearn.model_selection import train_test_split\n",
    "# from sklearn.metrics import r2_score, explained_variance_score, confusion_matrix, accuracy_score, classification_report, log_loss\n",
    "from math import sqrt\n",
    "\n",
    "# Creating the modeling dataset\n",
    "# from sklearn.datasets import make_classification\n",
    "# Data processing\n",
    "\n",
    "# Model and performance\n",
    "#from sklearn.model_selection import train_test_split\n",
    "# from sklearn.ensemble import RandomForestClassifier\n",
    "# from sklearn.metrics import classification_report\n",
    "\n",
    "# Oversampling and under sampling\n",
    "from imblearn.over_sampling import RandomOverSampler, SMOTE\n",
    "from imblearn.under_sampling import RandomUnderSampler, NearMiss\n",
    "from collections import Counter\n",
    "%matplotlib inline\n"
   ]
  },
  {
   "cell_type": "code",
   "execution_count": 2,
   "id": "5c85a9fa-1d5b-4ac3-b445-1ea578553da7",
   "metadata": {},
   "outputs": [],
   "source": [
    "# Import necessary libraries\n",
    "# import numpy as np\n",
    "# import pandas as pd\n",
    "# from keras.models import Sequential\n",
    "# from keras.layers import Dense\n",
    "\n",
    "# Load and preprocess the data\n",
    "# data = pd.read_csv(\"startup_funding.csv\")\n",
    "# X = data.iloc[:, 0:10].values\n",
    "# y = data.iloc[:, 10:].values\n",
    "\n",
    "# Define the neural network architecture\n",
    "# model = Sequential()\n",
    "# model.add(Dense(64, input_dim=10, activation='relu'))\n",
    "# model.add(Dense(32, activation='relu'))\n",
    "# model.add(Dense(16, activation='relu'))\n",
    "# model.add(Dense(8, activation='softmax'))\n",
    "\n",
    "# Compile the model\n",
    "# model.compile(loss='categorical_crossentropy', optimizer='adam', metrics=['accuracy'])\n",
    "\n",
    "# Train the model\n",
    "# model.fit(X, y, epochs=50, batch_size=32, validation_split=0.2)\n",
    "\n",
    "# Generate predictions for a new startup\n",
    "# new_startup = np.array([[1000000, 0, 1, 0, 0, 0, 1, 0, 0, 0]])\n",
    "# predictions = model.predict(new_startup)\n",
    "\n",
    "# Select the output nodes with the highest activation levels\n",
    "# investors = np.argsort(predictions)[0][-15:]"
   ]
  },
  {
   "cell_type": "code",
   "execution_count": 3,
   "id": "30ee06df-118b-475a-804a-b175d8a4d291",
   "metadata": {},
   "outputs": [],
   "source": [
    "# Load and preprocess the data\n",
    "# data = pd.read_csv(\"startup_funding.csv\")\n",
    "# X = data.iloc[:, 0:10].values\n",
    "# investor_names = data.columns[10:].tolist()\n",
    "# y = data.iloc[:, 10:].values\n",
    "\n",
    "# Define the neural network architecture\n",
    "# model = Sequential()\n",
    "# model.add(Dense(64, input_dim=10, activation='relu'))\n",
    "# model.add(Dense(32, activation='relu'))\n",
    "# model.add(Dense(16, activation='relu'))\n",
    "# model.add(Dense(len(investor_names), activation='softmax'))\n",
    "\n",
    "# Compile the model\n",
    "# model.compile(loss='categorical_crossentropy', optimizer='adam', metrics=['accuracy'])\n",
    "\n",
    "# Train the model\n",
    "# model.fit(X, y, epochs=50, batch_size=32, validation_split=0.2)\n",
    "\n",
    "# Generate predictions for a new startup\n",
    "# new_startup = np.array([[1000000, 0, 1, 0, 0, 0, 1, 0, 0, 0]])\n",
    "# predictions = model.predict(new_startup)\n",
    "\n",
    "# Map the numeric output to investor names\n",
    "# investor_probs = {name: prob for name, prob in zip(investor_names, predictions[0])}\n",
    "# top_investors = sorted(investor_probs, key=investor_probs.get, reverse=True)[:15]\n"
   ]
  },
  {
   "cell_type": "code",
   "execution_count": null,
   "id": "491c9061-31e3-404a-baeb-611d81e4f63a",
   "metadata": {},
   "outputs": [],
   "source": [
    "df = pd.read_excel ('data/Companies.xlsx')\n",
    "df.head()"
   ]
  },
  {
   "cell_type": "code",
   "execution_count": null,
   "id": "e8d699b4-383e-4512-b2ed-a979e2c09966",
   "metadata": {},
   "outputs": [],
   "source": [
    "cols = df.columns"
   ]
  },
  {
   "cell_type": "code",
   "execution_count": null,
   "id": "a27ba27a-5952-42a2-bc0a-ee01fbbb7a1a",
   "metadata": {},
   "outputs": [],
   "source": [
    "for cat_col in cols:\n",
    "    print(f\"{cat_col}: {df[cat_col].nunique()} uniqueness variable\")"
   ]
  },
  {
   "cell_type": "code",
   "execution_count": null,
   "id": "2e1049e9-1bc1-4e8e-b812-5e88a29ba8b5",
   "metadata": {},
   "outputs": [],
   "source": [
    "#listing all columns\n",
    "my_list = df.columns.values.tolist()"
   ]
  },
  {
   "cell_type": "code",
   "execution_count": null,
   "id": "f0f2ace2-8d8b-4ce7-895b-9c3d3d3889ef",
   "metadata": {},
   "outputs": [],
   "source": [
    "df = df.drop(['Total Number of Funding Rounds','Total Number of Venture Funding Rounds',\n",
    " 'Total Funding todate (disclosed)','Total Venture funding todate (disclosed)','Acquired',\n",
    " '1. Grant','2. Seed', '3. Early Venture','4. Late Venture', '5. Debt Financing','6.Private Equity','7. Offerings',\n",
    " '8. Exits',2010,2011,2012,2013,2014,2015,2016,2017,2018,2019,'Investors','Unnamed: 66','Unnamed: 67','Unnamed: 68',\n",
    " 'Unnamed: 69','Unnamed: 70','Unnamed: 71','Unnamed: 72','Unnamed: 73','Unnamed: 74','Unnamed: 75','Unnamed: 76',\n",
    " 'Unnamed: 77','Unnamed: 78','Unnamed: 79','Unnamed: 80','Duplication.1','Unnamed: 82','Unnamed: 83','Unnamed: 84',\n",
    " 'Unnamed: 85','Unnamed: 86','Unnamed: 87','Unnamed: 88','Unnamed: 89','Unnamed: 90','Unnamed: 91','Unnamed: 92',\n",
    " 'Unnamed: 93','Unnamed: 94','Unnamed: 95','Unnamed: 96','Unnamed: 97','Unnamed: 98','Unnamed: 99','Unnamed: 100',\n",
    " 'Unnamed: 101','Unnamed: 102','Unnamed: 103','Unnamed: 104','Unnamed: 105','Unnamed: 106','Unnamed: 107','Unnamed: 108',\n",
    " 'Unnamed: 109','Unnamed: 110','Unnamed: 111','Unnamed: 112','Unnamed: 113','Unnamed: 114','Unnamed: 115','Average time of rounds(days)',\n",
    " 'Year of recieving Series A '], axis=1)"
   ]
  },
  {
   "cell_type": "code",
   "execution_count": null,
   "id": "8319ac4c-61bb-4fde-b688-eb773361d98a",
   "metadata": {},
   "outputs": [],
   "source": [
    "df.head()"
   ]
  },
  {
   "cell_type": "code",
   "execution_count": null,
   "id": "a0174914-3559-497e-82a0-81e7620b65c7",
   "metadata": {},
   "outputs": [],
   "source": [
    "df_deals = pd.read_excel ('data/Deals (investment).xlsx')\n",
    "df_deals.head()"
   ]
  },
  {
   "cell_type": "code",
   "execution_count": null,
   "id": "ce77a173-5b85-490a-8313-7b7d638646f7",
   "metadata": {},
   "outputs": [],
   "source": [
    "cols = df_deals.columns"
   ]
  },
  {
   "cell_type": "code",
   "execution_count": null,
   "id": "9d5013b1-ffa5-45d5-af8a-dd926e52fc76",
   "metadata": {},
   "outputs": [],
   "source": [
    "for cat_col in cols:\n",
    "    print(f\"{cat_col}: {df_deals[cat_col].nunique()} uniqueness variable\")"
   ]
  },
  {
   "cell_type": "code",
   "execution_count": null,
   "id": "48d7b8cf-ea55-4a8e-8500-1edd5b77ffbc",
   "metadata": {},
   "outputs": [],
   "source": [
    "df_deals.shape"
   ]
  },
  {
   "cell_type": "code",
   "execution_count": null,
   "id": "97a2a1ee-ede1-4961-a43b-80fb862b77e1",
   "metadata": {},
   "outputs": [],
   "source": [
    "df_deals['Investor 2'].unique()"
   ]
  },
  {
   "cell_type": "code",
   "execution_count": null,
   "id": "257e5bcb-b7d5-496c-b4e9-b0e9d1e0b6f5",
   "metadata": {},
   "outputs": [],
   "source": [
    "df_deals.columns"
   ]
  },
  {
   "cell_type": "code",
   "execution_count": null,
   "id": "203263a8-cfdf-463f-b9af-61119e6b72f9",
   "metadata": {},
   "outputs": [],
   "source": [
    "df_deals = df_deals.drop(['Investor 1','Cummulative Deals (Disclosed)','Cummulative Deals (Undisclosed)','Cummulative Amount','7_source','4_Stake','Investor 2', 'Investor 3',\n",
    "       'Investor 4', 'Investor 5', 'Investor 6', 'Investor 7', 'Investor 8',\n",
    "       'Investor 9', 'Investor 10', 'Investor 11', 'Investor 12','Investor 13','Investor 14','Investor 13.1','Investor 14.1','Investor 15.1','Investor 15','Duplication','Investor 1.1',\n",
    "       'Investor 2.1', 'Investor 3.1', 'Investor 4.1', 'Investor 5.1',\n",
    "       'Investor 6.1', 'Investor 7.1', 'Investor 8.1', 'Investor 9.1',\n",
    "       'Investor 10.1', 'Investor 11.1', 'Investor 12.1'], axis=1)"
   ]
  },
  {
   "cell_type": "code",
   "execution_count": null,
   "id": "7205a45f-bc8a-4e3f-8829-77beabd31928",
   "metadata": {},
   "outputs": [],
   "source": [
    "df_deals.head()"
   ]
  },
  {
   "cell_type": "code",
   "execution_count": null,
   "id": "7ac109b8-68db-4038-b0f0-413dffabb109",
   "metadata": {
    "tags": []
   },
   "outputs": [],
   "source": [
    "df_deals[\"DA Classification_African Company (Yes = 0; No = 1)\"].value_counts()"
   ]
  },
  {
   "cell_type": "code",
   "execution_count": null,
   "id": "106b4d5d-a851-4cc3-a0a0-daf63fc8d12d",
   "metadata": {},
   "outputs": [],
   "source": [
    "df_deals = df_deals.dropna()"
   ]
  },
  {
   "cell_type": "code",
   "execution_count": null,
   "id": "8c9830d6-04cb-428a-9cde-dc11768d7a36",
   "metadata": {},
   "outputs": [],
   "source": [
    "df_deals.head()"
   ]
  },
  {
   "cell_type": "code",
   "execution_count": null,
   "id": "3eb80495-7ae7-41ff-a14a-75baeb930428",
   "metadata": {},
   "outputs": [],
   "source": [
    "df_deals.shape"
   ]
  },
  {
   "cell_type": "code",
   "execution_count": null,
   "id": "74b42581-5f15-498a-934e-d31747c04bad",
   "metadata": {},
   "outputs": [],
   "source": []
  },
  {
   "cell_type": "code",
   "execution_count": null,
   "id": "99f21e58-8a74-4f65-8d7a-3038785b5ebb",
   "metadata": {},
   "outputs": [],
   "source": []
  }
 ],
 "metadata": {
  "kernelspec": {
   "display_name": "Python 3 (ipykernel)",
   "language": "python",
   "name": "python3"
  },
  "language_info": {
   "codemirror_mode": {
    "name": "ipython",
    "version": 3
   },
   "file_extension": ".py",
   "mimetype": "text/x-python",
   "name": "python",
   "nbconvert_exporter": "python",
   "pygments_lexer": "ipython3",
   "version": "3.10.10"
  }
 },
 "nbformat": 4,
 "nbformat_minor": 5
}
